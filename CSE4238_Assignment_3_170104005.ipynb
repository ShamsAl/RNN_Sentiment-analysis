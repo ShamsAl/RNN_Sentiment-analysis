{
  "nbformat": 4,
  "nbformat_minor": 0,
  "metadata": {
    "colab": {
      "name": "CSE4238_Assignment-3_170104005.ipynb",
      "provenance": [],
      "collapsed_sections": [
        "nW4ElwLgysH_",
        "Ay2TDwZCy96_",
        "9RQpoQIizIfo",
        "tzq1MJWAzLy3",
        "BnThLglw3HEu"
      ],
      "authorship_tag": "ABX9TyNna33UF5DbGiEaq9j7AsNA",
      "include_colab_link": true
    },
    "kernelspec": {
      "name": "python3",
      "display_name": "Python 3"
    },
    "language_info": {
      "name": "python"
    }
  },
  "cells": [
    {
      "cell_type": "markdown",
      "metadata": {
        "id": "view-in-github",
        "colab_type": "text"
      },
      "source": [
        "<a href=\"https://colab.research.google.com/github/ShamsAl/RNN_Sentiment-analysis/blob/main/CSE4238_Assignment_3_170104005.ipynb\" target=\"_parent\"><img src=\"https://colab.research.google.com/assets/colab-badge.svg\" alt=\"Open In Colab\"/></a>"
      ]
    },
    {
      "cell_type": "markdown",
      "metadata": {
        "id": "okAZVx9nb9Es"
      },
      "source": [
        "# Drive mount code"
      ]
    },
    {
      "cell_type": "code",
      "metadata": {
        "id": "Re1cOmeea_7J"
      },
      "source": [
        "# from google.colab import drive\n",
        "# drive.mount('./drive')"
      ],
      "execution_count": 1,
      "outputs": []
    },
    {
      "cell_type": "markdown",
      "metadata": {
        "id": "nW4ElwLgysH_"
      },
      "source": [
        "# Dataset Creation"
      ]
    },
    {
      "cell_type": "markdown",
      "metadata": {
        "id": "Ay2TDwZCy96_"
      },
      "source": [
        "## Download dataset 3\n",
        "\n"
      ]
    },
    {
      "cell_type": "code",
      "metadata": {
        "colab": {
          "base_uri": "https://localhost:8080/"
        },
        "id": "wlb4s-FrcGxi",
        "outputId": "6d6b2318-2016-424b-dfc9-a9c07c01b12a"
      },
      "source": [
        "!gdown --id 1hgfcQHIlfnnDTSUAA_3--m-YA7BelKl3"
      ],
      "execution_count": 2,
      "outputs": [
        {
          "output_type": "stream",
          "name": "stdout",
          "text": [
            "Downloading...\n",
            "From: https://drive.google.com/uc?id=1hgfcQHIlfnnDTSUAA_3--m-YA7BelKl3\n",
            "To: /content/Dataset 3.csv\n",
            "\r  0% 0.00/999k [00:00<?, ?B/s]\r100% 999k/999k [00:00<00:00, 43.3MB/s]\n"
          ]
        }
      ]
    },
    {
      "cell_type": "markdown",
      "metadata": {
        "id": "9RQpoQIizIfo"
      },
      "source": [
        "## Import package"
      ]
    },
    {
      "cell_type": "code",
      "metadata": {
        "colab": {
          "base_uri": "https://localhost:8080/"
        },
        "id": "uLl0_bE2cC-C",
        "outputId": "d3798be2-3312-488f-8f1c-5bd83f5184e6"
      },
      "source": [
        "# import some importent library or packages \n",
        "import matplotlib.pyplot as plt\n",
        "import warnings\n",
        "import time,sys\n",
        "import copy\n",
        "\n",
        "import pandas as pd\n",
        "import numpy as np\n",
        "import cv2\n",
        "import os\n",
        "import pathlib\n",
        "import zipfile\n",
        "import torch\n",
        "import torchvision\n",
        "from torchvision import models\n",
        "import torchvision.transforms as transforms\n",
        "from torch.utils.data import Dataset, DataLoader, ConcatDataset\n",
        "import torch.optim as optim\n",
        "import pathlib\n",
        "import shutil\n",
        "from pathlib import Path\n",
        "from collections import Counter\n",
        "!pip install torchsummary\n",
        "from torchsummary import summary\n",
        "from sklearn.utils import shuffle\n",
        "!pip install torchviz\n",
        "from torchviz import make_dot, make_dot_from_trace\n",
        "\n",
        "warnings.filterwarnings('ignore')\n",
        "torch.manual_seed(0)"
      ],
      "execution_count": 3,
      "outputs": [
        {
          "output_type": "stream",
          "name": "stdout",
          "text": [
            "Requirement already satisfied: torchsummary in /usr/local/lib/python3.7/dist-packages (1.5.1)\n",
            "Requirement already satisfied: torchviz in /usr/local/lib/python3.7/dist-packages (0.0.2)\n",
            "Requirement already satisfied: torch in /usr/local/lib/python3.7/dist-packages (from torchviz) (1.9.0+cu102)\n",
            "Requirement already satisfied: graphviz in /usr/local/lib/python3.7/dist-packages (from torchviz) (0.10.1)\n",
            "Requirement already satisfied: typing-extensions in /usr/local/lib/python3.7/dist-packages (from torch->torchviz) (3.7.4.3)\n"
          ]
        },
        {
          "output_type": "execute_result",
          "data": {
            "text/plain": [
              "<torch._C.Generator at 0x7fbf2c0dd5f0>"
            ]
          },
          "metadata": {},
          "execution_count": 3
        }
      ]
    },
    {
      "cell_type": "markdown",
      "metadata": {
        "id": "tzq1MJWAzLy3"
      },
      "source": [
        "## Read downloaded dataset"
      ]
    },
    {
      "cell_type": "code",
      "metadata": {
        "id": "SG4wK48ZcGFy"
      },
      "source": [
        "df = pd.read_csv('/content/Dataset 3.csv',encoding='unicode_escape')"
      ],
      "execution_count": 4,
      "outputs": []
    },
    {
      "cell_type": "code",
      "metadata": {
        "colab": {
          "base_uri": "https://localhost:8080/"
        },
        "id": "yZCvTyl6keZe",
        "outputId": "1c5a9e5d-5bbf-47cc-9a96-90424b5cb81d"
      },
      "source": [
        "df.columns ## columns name"
      ],
      "execution_count": 5,
      "outputs": [
        {
          "output_type": "execute_result",
          "data": {
            "text/plain": [
              "Index(['tweets', 'sentiment'], dtype='object')"
            ]
          },
          "metadata": {},
          "execution_count": 5
        }
      ]
    },
    {
      "cell_type": "code",
      "metadata": {
        "colab": {
          "base_uri": "https://localhost:8080/"
        },
        "id": "l8lCKytvnQxF",
        "outputId": "0db4ec76-333a-431c-96ef-afd6af0df34a"
      },
      "source": [
        "df['sentiment'].value_counts() ## get number of data in `polarity` class"
      ],
      "execution_count": 6,
      "outputs": [
        {
          "output_type": "execute_result",
          "data": {
            "text/plain": [
              "0    8000\n",
              "1    2314\n",
              "Name: sentiment, dtype: int64"
            ]
          },
          "metadata": {},
          "execution_count": 6
        }
      ]
    },
    {
      "cell_type": "code",
      "metadata": {
        "colab": {
          "base_uri": "https://localhost:8080/"
        },
        "id": "wU8m4CcPkiV1",
        "outputId": "f268191d-b9f9-4764-c7e4-68cae3ac2dbe"
      },
      "source": [
        "df['tweets'].value_counts()"
      ],
      "execution_count": 7,
      "outputs": [
        {
          "output_type": "execute_result",
          "data": {
            "text/plain": [
              "Mom's depression tied to kids' emotional, intellectual development  https://ift.tt/2HtVZCEÃÂ                                                   11\n",
              "25-04-18                                                                                                                                         4\n",
              "More than 1 in 20 US children and teens have anxiety or depression  https://www.sciencedaily.com/releases/2018/04/180424184119.htmÃÂ Ã¢ÂÂ¦     4\n",
              "[Zicutake] Depression can be prevented by exercise  https://goo.gl/fb/Mu7k6tÃÂ                                                                  3\n",
              "suffering from chronic depression https://vine.co/v/iu3l2lPBhiKÃÂ                                                                               3\n",
              "                                                                                                                                                ..\n",
              "@mojustice I've heard this fall. I'm waiting too!                                                                                                1\n",
              "Going to say my prayers and go to sleep!                                                                                                         1\n",
              "ItÃ¢â¬â¢s always a good idea to match your umbrella w/your outfit  http://bit.ly/tgBM9                                                         1\n",
              "still feeling terrible and sick but hooray for Megan Hilty (aka one of the most hilarious Glindas ever) on desperate Housewives tonight          1\n",
              "@GADataGuy You too have a great day                                                                                                              1\n",
              "Name: tweets, Length: 10282, dtype: int64"
            ]
          },
          "metadata": {},
          "execution_count": 7
        }
      ]
    },
    {
      "cell_type": "markdown",
      "metadata": {
        "id": "BnThLglw3HEu"
      },
      "source": [
        "## Dataset splitting"
      ]
    },
    {
      "cell_type": "code",
      "metadata": {
        "id": "NddseGZ0n-Y8"
      },
      "source": [
        "## split dataset based on the class\n",
        "traning_split_size = 0.8\n",
        "df_class_1 = df[df['sentiment'] == 1]\n",
        "df_class_0 = df[df['sentiment'] == 0]\n",
        "\n",
        "trainSize = int(len(df_class_0) * traning_split_size)\n",
        "Traning_class_0 = df_class_0[:trainSize]\n",
        "Test_class_0 = df_class_0[trainSize:]\n",
        "\n",
        "trainSize = int(len(df_class_1) * traning_split_size)\n",
        "Traning_class_1 = df_class_1[:trainSize]\n",
        "Test_class_1 = df_class_1[trainSize:]"
      ],
      "execution_count": 8,
      "outputs": []
    },
    {
      "cell_type": "code",
      "metadata": {
        "colab": {
          "base_uri": "https://localhost:8080/",
          "height": 0
        },
        "id": "MJnpde_qvabR",
        "outputId": "f24a8e5b-b646-4fbd-bb1e-d9dd0e174dfa"
      },
      "source": [
        "## traning dataset create\n",
        "li = [Traning_class_0,Traning_class_1]\n",
        "frame = pd.concat(li, axis=0, ignore_index=True)\n",
        "frame = shuffle(frame)\n",
        "frame.reset_index(inplace=True, drop=True)\n",
        "frame.to_csv('Train-Dataset.csv',index=False)\n",
        "frame"
      ],
      "execution_count": 9,
      "outputs": [
        {
          "output_type": "execute_result",
          "data": {
            "text/html": [
              "<div>\n",
              "<style scoped>\n",
              "    .dataframe tbody tr th:only-of-type {\n",
              "        vertical-align: middle;\n",
              "    }\n",
              "\n",
              "    .dataframe tbody tr th {\n",
              "        vertical-align: top;\n",
              "    }\n",
              "\n",
              "    .dataframe thead th {\n",
              "        text-align: right;\n",
              "    }\n",
              "</style>\n",
              "<table border=\"1\" class=\"dataframe\">\n",
              "  <thead>\n",
              "    <tr style=\"text-align: right;\">\n",
              "      <th></th>\n",
              "      <th>tweets</th>\n",
              "      <th>sentiment</th>\n",
              "    </tr>\n",
              "  </thead>\n",
              "  <tbody>\n",
              "    <tr>\n",
              "      <th>0</th>\n",
              "      <td>@ReneeCarrollAZ @KyleKashuv These snowflakes w...</td>\n",
              "      <td>1</td>\n",
              "    </tr>\n",
              "    <tr>\n",
              "      <th>1</th>\n",
              "      <td>loving summer</td>\n",
              "      <td>0</td>\n",
              "    </tr>\n",
              "    <tr>\n",
              "      <th>2</th>\n",
              "      <td>About to pass out! Super tired...good night tw...</td>\n",
              "      <td>0</td>\n",
              "    </tr>\n",
              "    <tr>\n",
              "      <th>3</th>\n",
              "      <td>Photo: havent-got-a-prayer: Me too  http://tum...</td>\n",
              "      <td>0</td>\n",
              "    </tr>\n",
              "    <tr>\n",
              "      <th>4</th>\n",
              "      <td>@macitout and recording music here with Nona H...</td>\n",
              "      <td>0</td>\n",
              "    </tr>\n",
              "    <tr>\n",
              "      <th>...</th>\n",
              "      <td>...</td>\n",
              "      <td>...</td>\n",
              "    </tr>\n",
              "    <tr>\n",
              "      <th>8246</th>\n",
              "      <td>#GeneChat Large-population studies that look f...</td>\n",
              "      <td>1</td>\n",
              "    </tr>\n",
              "    <tr>\n",
              "      <th>8247</th>\n",
              "      <td>I spent all of 10th grade crying for absolutel...</td>\n",
              "      <td>1</td>\n",
              "    </tr>\n",
              "    <tr>\n",
              "      <th>8248</th>\n",
              "      <td>I mean I think I'm just being funny but appare...</td>\n",
              "      <td>1</td>\n",
              "    </tr>\n",
              "    <tr>\n",
              "      <th>8249</th>\n",
              "      <td>@comeagainjen Jenn, I just wanted to say that ...</td>\n",
              "      <td>0</td>\n",
              "    </tr>\n",
              "    <tr>\n",
              "      <th>8250</th>\n",
              "      <td>@Lkmcn1 blimey - predictive text is a bugger, ...</td>\n",
              "      <td>0</td>\n",
              "    </tr>\n",
              "  </tbody>\n",
              "</table>\n",
              "<p>8251 rows × 2 columns</p>\n",
              "</div>"
            ],
            "text/plain": [
              "                                                 tweets  sentiment\n",
              "0     @ReneeCarrollAZ @KyleKashuv These snowflakes w...          1\n",
              "1                                        loving summer           0\n",
              "2     About to pass out! Super tired...good night tw...          0\n",
              "3     Photo: havent-got-a-prayer: Me too  http://tum...          0\n",
              "4     @macitout and recording music here with Nona H...          0\n",
              "...                                                 ...        ...\n",
              "8246  #GeneChat Large-population studies that look f...          1\n",
              "8247  I spent all of 10th grade crying for absolutel...          1\n",
              "8248  I mean I think I'm just being funny but appare...          1\n",
              "8249  @comeagainjen Jenn, I just wanted to say that ...          0\n",
              "8250  @Lkmcn1 blimey - predictive text is a bugger, ...          0\n",
              "\n",
              "[8251 rows x 2 columns]"
            ]
          },
          "metadata": {},
          "execution_count": 9
        }
      ]
    },
    {
      "cell_type": "code",
      "metadata": {
        "colab": {
          "base_uri": "https://localhost:8080/",
          "height": 0
        },
        "id": "UC7KHE3Jxnax",
        "outputId": "00efe2eb-e8dd-4348-e7e7-caf90c0c4380"
      },
      "source": [
        "## testing dataset create\n",
        "li = [Test_class_0,Test_class_1]\n",
        "frame = pd.concat(li, axis=0, ignore_index=True)\n",
        "frame = shuffle(frame)\n",
        "frame.reset_index(inplace=True, drop=True)\n",
        "frame.to_csv('Test-Dataset.csv',index=False)\n",
        "frame"
      ],
      "execution_count": 10,
      "outputs": [
        {
          "output_type": "execute_result",
          "data": {
            "text/html": [
              "<div>\n",
              "<style scoped>\n",
              "    .dataframe tbody tr th:only-of-type {\n",
              "        vertical-align: middle;\n",
              "    }\n",
              "\n",
              "    .dataframe tbody tr th {\n",
              "        vertical-align: top;\n",
              "    }\n",
              "\n",
              "    .dataframe thead th {\n",
              "        text-align: right;\n",
              "    }\n",
              "</style>\n",
              "<table border=\"1\" class=\"dataframe\">\n",
              "  <thead>\n",
              "    <tr style=\"text-align: right;\">\n",
              "      <th></th>\n",
              "      <th>tweets</th>\n",
              "      <th>sentiment</th>\n",
              "    </tr>\n",
              "  </thead>\n",
              "  <tbody>\n",
              "    <tr>\n",
              "      <th>0</th>\n",
              "      <td>@rawrAlii   Looking for Alice......nice to mee...</td>\n",
              "      <td>0</td>\n",
              "    </tr>\n",
              "    <tr>\n",
              "      <th>1</th>\n",
              "      <td>Just just stop! Stop doingg things that you mi...</td>\n",
              "      <td>1</td>\n",
              "    </tr>\n",
              "    <tr>\n",
              "      <th>2</th>\n",
              "      <td>@wowie It's a good movie, I like that one. Nev...</td>\n",
              "      <td>0</td>\n",
              "    </tr>\n",
              "    <tr>\n",
              "      <th>3</th>\n",
              "      <td>lowpass on pizzicato strings - number one caus...</td>\n",
              "      <td>1</td>\n",
              "    </tr>\n",
              "    <tr>\n",
              "      <th>4</th>\n",
              "      <td>@Rotmush no.. I think it was Ori</td>\n",
              "      <td>0</td>\n",
              "    </tr>\n",
              "    <tr>\n",
              "      <th>...</th>\n",
              "      <td>...</td>\n",
              "      <td>...</td>\n",
              "    </tr>\n",
              "    <tr>\n",
              "      <th>2058</th>\n",
              "      <td>@amerj thanks</td>\n",
              "      <td>0</td>\n",
              "    </tr>\n",
              "    <tr>\n",
              "      <th>2059</th>\n",
              "      <td>You're the P. Swayer to my B. Davis</td>\n",
              "      <td>0</td>\n",
              "    </tr>\n",
              "    <tr>\n",
              "      <th>2060</th>\n",
              "      <td>@aaronmcarroll i try my best to inspire you wi...</td>\n",
              "      <td>0</td>\n",
              "    </tr>\n",
              "    <tr>\n",
              "      <th>2061</th>\n",
              "      <td>@sjrozas I can pick them up for you. You'll be...</td>\n",
              "      <td>0</td>\n",
              "    </tr>\n",
              "    <tr>\n",
              "      <th>2062</th>\n",
              "      <td>mama mia, here I go again, my my how can i res...</td>\n",
              "      <td>0</td>\n",
              "    </tr>\n",
              "  </tbody>\n",
              "</table>\n",
              "<p>2063 rows × 2 columns</p>\n",
              "</div>"
            ],
            "text/plain": [
              "                                                 tweets  sentiment\n",
              "0     @rawrAlii   Looking for Alice......nice to mee...          0\n",
              "1     Just just stop! Stop doingg things that you mi...          1\n",
              "2     @wowie It's a good movie, I like that one. Nev...          0\n",
              "3     lowpass on pizzicato strings - number one caus...          1\n",
              "4                     @Rotmush no.. I think it was Ori           0\n",
              "...                                                 ...        ...\n",
              "2058                                     @amerj thanks           0\n",
              "2059               You're the P. Swayer to my B. Davis           0\n",
              "2060  @aaronmcarroll i try my best to inspire you wi...          0\n",
              "2061  @sjrozas I can pick them up for you. You'll be...          0\n",
              "2062  mama mia, here I go again, my my how can i res...          0\n",
              "\n",
              "[2063 rows x 2 columns]"
            ]
          },
          "metadata": {},
          "execution_count": 10
        }
      ]
    },
    {
      "cell_type": "code",
      "metadata": {
        "id": "3JCI-V_ASE-5"
      },
      "source": [
        ""
      ],
      "execution_count": 10,
      "outputs": []
    },
    {
      "cell_type": "markdown",
      "metadata": {
        "id": "SwhD-3_x3t5V"
      },
      "source": [
        "# Text cleaning"
      ]
    },
    {
      "cell_type": "code",
      "metadata": {
        "colab": {
          "base_uri": "https://localhost:8080/"
        },
        "id": "vf7x0ff83u0F",
        "outputId": "b35b7868-d463-4c17-8cbd-bba91376108c"
      },
      "source": [
        "# import some importent library or packages \n",
        "import matplotlib.pyplot as plt\n",
        "import warnings\n",
        "import time,sys,re,string\n",
        "import copy\n",
        "\n",
        "import pandas as pd\n",
        "import numpy as np\n",
        "import cv2\n",
        "import os\n",
        "import pathlib\n",
        "import zipfile\n",
        "import torch\n",
        "import torchvision\n",
        "from torchvision import models\n",
        "import torchvision.transforms as transforms\n",
        "from torch.utils.data import Dataset, DataLoader, ConcatDataset\n",
        "\n",
        "import torch.optim as optim\n",
        "import pathlib\n",
        "import shutil\n",
        "from pathlib import Path\n",
        "from collections import Counter\n",
        "!pip install torchsummary\n",
        "from torchsummary import summary\n",
        "from sklearn.utils import shuffle\n",
        "!pip install torchviz\n",
        "from torchviz import make_dot, make_dot_from_trace\n",
        "try:\n",
        "  import contractions\n",
        "except:\n",
        "  !pip install contractions\n",
        "import contractions\n",
        "from torchtext.legacy.data import Field, TabularDataset, BucketIterator\n",
        "from torchtext.data.utils import get_tokenizer\n",
        "from torchtext.vocab import build_vocab_from_iterator, Vectors, GloVe\n",
        "\n",
        "import nltk\n",
        "try:\n",
        "    nltk.data.find('tokenizers/punkt')\n",
        "    nltk.data.find('averaged_perceptron_tagger')\n",
        "    nltk.data.find('brown')\n",
        "except LookupError:\n",
        "    nltk.download('averaged_perceptron_tagger')\n",
        "    nltk.download('brown')\n",
        "    nltk.download('punkt')\n",
        "from nltk import sent_tokenize,word_tokenize\n",
        "\n",
        "\n",
        "warnings.filterwarnings('ignore')\n",
        "torch.manual_seed(0)"
      ],
      "execution_count": 11,
      "outputs": [
        {
          "output_type": "stream",
          "name": "stdout",
          "text": [
            "Requirement already satisfied: torchsummary in /usr/local/lib/python3.7/dist-packages (1.5.1)\n",
            "Requirement already satisfied: torchviz in /usr/local/lib/python3.7/dist-packages (0.0.2)\n",
            "Requirement already satisfied: graphviz in /usr/local/lib/python3.7/dist-packages (from torchviz) (0.10.1)\n",
            "Requirement already satisfied: torch in /usr/local/lib/python3.7/dist-packages (from torchviz) (1.9.0+cu102)\n",
            "Requirement already satisfied: typing-extensions in /usr/local/lib/python3.7/dist-packages (from torch->torchviz) (3.7.4.3)\n",
            "[nltk_data] Downloading package averaged_perceptron_tagger to\n",
            "[nltk_data]     /root/nltk_data...\n",
            "[nltk_data]   Package averaged_perceptron_tagger is already up-to-\n",
            "[nltk_data]       date!\n",
            "[nltk_data] Downloading package brown to /root/nltk_data...\n",
            "[nltk_data]   Package brown is already up-to-date!\n",
            "[nltk_data] Downloading package punkt to /root/nltk_data...\n",
            "[nltk_data]   Package punkt is already up-to-date!\n"
          ]
        },
        {
          "output_type": "execute_result",
          "data": {
            "text/plain": [
              "<torch._C.Generator at 0x7fbf2c0dd5f0>"
            ]
          },
          "metadata": {},
          "execution_count": 11
        }
      ]
    },
    {
      "cell_type": "code",
      "metadata": {
        "id": "UqxEVwxP37g2"
      },
      "source": [
        "traning_df = pd.read_csv('/content/Train-Dataset.csv')\n",
        "testing_df = pd.read_csv('/content/Test-Dataset.csv')"
      ],
      "execution_count": 12,
      "outputs": []
    },
    {
      "cell_type": "code",
      "metadata": {
        "colab": {
          "base_uri": "https://localhost:8080/",
          "height": 419
        },
        "id": "gulKysGivn3d",
        "outputId": "9b8b88e3-e9f1-4e44-d16e-2eb5f81336a8"
      },
      "source": [
        "traning_df"
      ],
      "execution_count": 13,
      "outputs": [
        {
          "output_type": "execute_result",
          "data": {
            "text/html": [
              "<div>\n",
              "<style scoped>\n",
              "    .dataframe tbody tr th:only-of-type {\n",
              "        vertical-align: middle;\n",
              "    }\n",
              "\n",
              "    .dataframe tbody tr th {\n",
              "        vertical-align: top;\n",
              "    }\n",
              "\n",
              "    .dataframe thead th {\n",
              "        text-align: right;\n",
              "    }\n",
              "</style>\n",
              "<table border=\"1\" class=\"dataframe\">\n",
              "  <thead>\n",
              "    <tr style=\"text-align: right;\">\n",
              "      <th></th>\n",
              "      <th>tweets</th>\n",
              "      <th>sentiment</th>\n",
              "    </tr>\n",
              "  </thead>\n",
              "  <tbody>\n",
              "    <tr>\n",
              "      <th>0</th>\n",
              "      <td>@ReneeCarrollAZ @KyleKashuv These snowflakes w...</td>\n",
              "      <td>1</td>\n",
              "    </tr>\n",
              "    <tr>\n",
              "      <th>1</th>\n",
              "      <td>loving summer</td>\n",
              "      <td>0</td>\n",
              "    </tr>\n",
              "    <tr>\n",
              "      <th>2</th>\n",
              "      <td>About to pass out! Super tired...good night tw...</td>\n",
              "      <td>0</td>\n",
              "    </tr>\n",
              "    <tr>\n",
              "      <th>3</th>\n",
              "      <td>Photo: havent-got-a-prayer: Me too  http://tum...</td>\n",
              "      <td>0</td>\n",
              "    </tr>\n",
              "    <tr>\n",
              "      <th>4</th>\n",
              "      <td>@macitout and recording music here with Nona H...</td>\n",
              "      <td>0</td>\n",
              "    </tr>\n",
              "    <tr>\n",
              "      <th>...</th>\n",
              "      <td>...</td>\n",
              "      <td>...</td>\n",
              "    </tr>\n",
              "    <tr>\n",
              "      <th>8246</th>\n",
              "      <td>#GeneChat Large-population studies that look f...</td>\n",
              "      <td>1</td>\n",
              "    </tr>\n",
              "    <tr>\n",
              "      <th>8247</th>\n",
              "      <td>I spent all of 10th grade crying for absolutel...</td>\n",
              "      <td>1</td>\n",
              "    </tr>\n",
              "    <tr>\n",
              "      <th>8248</th>\n",
              "      <td>I mean I think I'm just being funny but appare...</td>\n",
              "      <td>1</td>\n",
              "    </tr>\n",
              "    <tr>\n",
              "      <th>8249</th>\n",
              "      <td>@comeagainjen Jenn, I just wanted to say that ...</td>\n",
              "      <td>0</td>\n",
              "    </tr>\n",
              "    <tr>\n",
              "      <th>8250</th>\n",
              "      <td>@Lkmcn1 blimey - predictive text is a bugger, ...</td>\n",
              "      <td>0</td>\n",
              "    </tr>\n",
              "  </tbody>\n",
              "</table>\n",
              "<p>8251 rows × 2 columns</p>\n",
              "</div>"
            ],
            "text/plain": [
              "                                                 tweets  sentiment\n",
              "0     @ReneeCarrollAZ @KyleKashuv These snowflakes w...          1\n",
              "1                                        loving summer           0\n",
              "2     About to pass out! Super tired...good night tw...          0\n",
              "3     Photo: havent-got-a-prayer: Me too  http://tum...          0\n",
              "4     @macitout and recording music here with Nona H...          0\n",
              "...                                                 ...        ...\n",
              "8246  #GeneChat Large-population studies that look f...          1\n",
              "8247  I spent all of 10th grade crying for absolutel...          1\n",
              "8248  I mean I think I'm just being funny but appare...          1\n",
              "8249  @comeagainjen Jenn, I just wanted to say that ...          0\n",
              "8250  @Lkmcn1 blimey - predictive text is a bugger, ...          0\n",
              "\n",
              "[8251 rows x 2 columns]"
            ]
          },
          "metadata": {},
          "execution_count": 13
        }
      ]
    },
    {
      "cell_type": "code",
      "metadata": {
        "id": "qdQ4ajcoOdX6"
      },
      "source": [
        "def clean_text(tweets):\n",
        "    '''Make text lowercase, remove text in square brackets,remove links,remove punctuation\n",
        "    and remove words containing numbers. removibng miltiple full stop'''\n",
        "    tweets = str(tweets).lower()\n",
        "    tweets = re.sub('\\[.*?\\]', '', tweets)\n",
        "    tweets = re.sub('https?://\\S+|www\\.\\S+', '', tweets)\n",
        "    tweets = re.sub('<.*?>+', '', tweets)\n",
        "    tweets = re.sub('[%s]' % re.escape(string.punctuation), '', tweets)\n",
        "    tweets = re.sub('\\n', '', tweets)\n",
        "    tweets = re.sub('\\w*\\d\\w*', '', tweets)\n",
        "    tweets = re.sub(r'\\.+', \".\", tweets)\n",
        "    return tweets\n",
        "\n",
        "def replace_text(tweets):\n",
        "    tweets = str(tweets).lower()\n",
        "    tweets = tweets.encode('ascii', 'ignore').decode('utf-8') \n",
        "    return tweets  \n",
        "\n",
        "\n",
        "for dta in [traning_df,testing_df]:\n",
        "  dta['tweets_cleaning'] = dta.tweets.apply(lambda x: x.strip().lower() )\n",
        "  dta['tweets_cleaning'] = dta.tweets_cleaning.apply(lambda x : \" \".join(x.split()) )\n",
        "  dta['tweets_cleaning'] = dta.tweets_cleaning.apply(lambda x: contractions.fix(x) )\n",
        "  dta['tweets_cleaning'] = dta.tweets_cleaning.apply(lambda x: clean_text(x) )\n",
        "  dta['tweets_cleaning'] = dta.tweets_cleaning.apply(lambda x: replace_text(x) )\n",
        "  dta['number_of_word'] = dta.tweets_cleaning.apply(lambda x: len(word_tokenize(x)) )\n",
        "  dta['number_of_letter'] = dta.tweets_cleaning.apply(lambda x: len(x) )\n",
        "  del dta['tweets']\n",
        "  dta['tweets'] = dta['tweets_cleaning'] \n",
        "  del dta['tweets_cleaning']\n",
        "\n",
        "\n",
        "\n",
        "for dta in [traning_df,testing_df]:\n",
        "  word_count_zero = dta[dta['number_of_word'] == 0]\n",
        "  dta.drop(word_count_zero.index,inplace=True)\n",
        "  letter_count_zero = dta[dta['number_of_letter'] == 0]\n",
        "  dta.drop(letter_count_zero.index,inplace=True)\n",
        "\n",
        "\n",
        "# # Training DF\n",
        "# traning_df['text_cleaning'] = traning_df.text.apply(lambda x: x.strip().lower() )\n",
        "# traning_df['text_cleaning'] = traning_df.text_cleaning.apply(lambda x : \" \".join(x.split()) )\n",
        "# traning_df['text_cleaning'] = traning_df.text_cleaning.apply(lambda x: contractions.fix(x) )\n",
        "# traning_df['text_cleaning'] = traning_df.text_cleaning.apply(lambda x: clean_text(x) )\n",
        "# traning_df['text_cleaning'] = traning_df.text_cleaning.apply(lambda x: replace_text(x) )\n",
        "\n",
        "# # Testing DF\n",
        "# testing_df['text_cleaning'] = testing_df.text.apply(lambda x: x.strip().lower() )\n",
        "# testing_df['text_cleaning'] = traning_df.text_cleaning.apply(lambda x : \" \".join(x.split()) )\n",
        "# testing_df['text_cleaning'] = testing_df.text_cleaning.apply(lambda x: contractions.fix(x) )\n",
        "# testing_df['text_cleaning'] = testing_df.text_cleaning.apply(lambda x: clean_text(x) )\n",
        "# testing_df['text_cleaning'] = testing_df.text_cleaning.apply(lambda x: replace_text(x) )\n"
      ],
      "execution_count": 14,
      "outputs": []
    },
    {
      "cell_type": "code",
      "metadata": {
        "colab": {
          "base_uri": "https://localhost:8080/",
          "height": 419
        },
        "id": "OptnUdYqPe_D",
        "outputId": "f8b1295d-be6c-4927-ef28-1d2ad8789a62"
      },
      "source": [
        "traning_df"
      ],
      "execution_count": 15,
      "outputs": [
        {
          "output_type": "execute_result",
          "data": {
            "text/html": [
              "<div>\n",
              "<style scoped>\n",
              "    .dataframe tbody tr th:only-of-type {\n",
              "        vertical-align: middle;\n",
              "    }\n",
              "\n",
              "    .dataframe tbody tr th {\n",
              "        vertical-align: top;\n",
              "    }\n",
              "\n",
              "    .dataframe thead th {\n",
              "        text-align: right;\n",
              "    }\n",
              "</style>\n",
              "<table border=\"1\" class=\"dataframe\">\n",
              "  <thead>\n",
              "    <tr style=\"text-align: right;\">\n",
              "      <th></th>\n",
              "      <th>sentiment</th>\n",
              "      <th>number_of_word</th>\n",
              "      <th>number_of_letter</th>\n",
              "      <th>tweets</th>\n",
              "    </tr>\n",
              "  </thead>\n",
              "  <tbody>\n",
              "    <tr>\n",
              "      <th>0</th>\n",
              "      <td>1</td>\n",
              "      <td>14</td>\n",
              "      <td>119</td>\n",
              "      <td>reneecarrollaz kylekashuv these snowflakes wou...</td>\n",
              "    </tr>\n",
              "    <tr>\n",
              "      <th>1</th>\n",
              "      <td>0</td>\n",
              "      <td>2</td>\n",
              "      <td>13</td>\n",
              "      <td>loving summer</td>\n",
              "    </tr>\n",
              "    <tr>\n",
              "      <th>2</th>\n",
              "      <td>0</td>\n",
              "      <td>10</td>\n",
              "      <td>64</td>\n",
              "      <td>about to pass out super tiredgood night twitte...</td>\n",
              "    </tr>\n",
              "    <tr>\n",
              "      <th>3</th>\n",
              "      <td>0</td>\n",
              "      <td>5</td>\n",
              "      <td>32</td>\n",
              "      <td>photo have notgotaprayer me too</td>\n",
              "    </tr>\n",
              "    <tr>\n",
              "      <th>4</th>\n",
              "      <td>0</td>\n",
              "      <td>22</td>\n",
              "      <td>118</td>\n",
              "      <td>macitout and recording music here with nona he...</td>\n",
              "    </tr>\n",
              "    <tr>\n",
              "      <th>...</th>\n",
              "      <td>...</td>\n",
              "      <td>...</td>\n",
              "      <td>...</td>\n",
              "      <td>...</td>\n",
              "    </tr>\n",
              "    <tr>\n",
              "      <th>8246</th>\n",
              "      <td>1</td>\n",
              "      <td>45</td>\n",
              "      <td>266</td>\n",
              "      <td>genechat largepopulation studies that look for...</td>\n",
              "    </tr>\n",
              "    <tr>\n",
              "      <th>8247</th>\n",
              "      <td>1</td>\n",
              "      <td>32</td>\n",
              "      <td>166</td>\n",
              "      <td>i spent all of  grade crying for absolutely no...</td>\n",
              "    </tr>\n",
              "    <tr>\n",
              "      <th>8248</th>\n",
              "      <td>1</td>\n",
              "      <td>34</td>\n",
              "      <td>182</td>\n",
              "      <td>i mean i think i am just being funny but appar...</td>\n",
              "    </tr>\n",
              "    <tr>\n",
              "      <th>8249</th>\n",
              "      <td>0</td>\n",
              "      <td>20</td>\n",
              "      <td>103</td>\n",
              "      <td>comeagainjen jenn i just wanted to say that i ...</td>\n",
              "    </tr>\n",
              "    <tr>\n",
              "      <th>8250</th>\n",
              "      <td>0</td>\n",
              "      <td>9</td>\n",
              "      <td>46</td>\n",
              "      <td>blimey  predictive text is a bugger is not it</td>\n",
              "    </tr>\n",
              "  </tbody>\n",
              "</table>\n",
              "<p>8244 rows × 4 columns</p>\n",
              "</div>"
            ],
            "text/plain": [
              "      sentiment  ...                                             tweets\n",
              "0             1  ...  reneecarrollaz kylekashuv these snowflakes wou...\n",
              "1             0  ...                                      loving summer\n",
              "2             0  ...  about to pass out super tiredgood night twitte...\n",
              "3             0  ...                   photo have notgotaprayer me too \n",
              "4             0  ...  macitout and recording music here with nona he...\n",
              "...         ...  ...                                                ...\n",
              "8246          1  ...  genechat largepopulation studies that look for...\n",
              "8247          1  ...  i spent all of  grade crying for absolutely no...\n",
              "8248          1  ...  i mean i think i am just being funny but appar...\n",
              "8249          0  ...  comeagainjen jenn i just wanted to say that i ...\n",
              "8250          0  ...      blimey  predictive text is a bugger is not it\n",
              "\n",
              "[8244 rows x 4 columns]"
            ]
          },
          "metadata": {},
          "execution_count": 15
        }
      ]
    },
    {
      "cell_type": "code",
      "metadata": {
        "colab": {
          "base_uri": "https://localhost:8080/"
        },
        "id": "CnDFX37x7tcc",
        "outputId": "53354222-a936-416a-9bb7-5219d8b043e6"
      },
      "source": [
        "alltext_length = []\n",
        "allword_length = []\n",
        "for val in traning_df.tweets:\n",
        "  word_tok = word_tokenize(val)\n",
        "  alltext_length.append(len(val))\n",
        "  allword_length.append(len(word_tok))\n",
        "\n",
        "print(max(alltext_length))\n",
        "print(max(allword_length))\n",
        "\n",
        "# traning_df.text.apply(lambda x: len(x) )"
      ],
      "execution_count": 16,
      "outputs": [
        {
          "output_type": "stream",
          "name": "stdout",
          "text": [
            "289\n",
            "62\n"
          ]
        }
      ]
    },
    {
      "cell_type": "code",
      "metadata": {
        "colab": {
          "base_uri": "https://localhost:8080/"
        },
        "id": "doo23zv2ZNj4",
        "outputId": "ccc4a0ab-dc28-427e-b197-ca8dfca0a1a3"
      },
      "source": [
        "for val in traning_df.tweets:\n",
        "  word_tok = word_tokenize(val)\n",
        "  if len(word_tok) <= 1:\n",
        "    print(val)"
      ],
      "execution_count": 17,
      "outputs": [
        {
          "output_type": "stream",
          "name": "stdout",
          "text": [
            "twittermaniaaaaaaaaaaa\n",
            "jonathanrknight\n",
            "picture\n",
            "makemescream\n",
            "depression  \n",
            "ferngully\n",
            "depression  \n",
            " thanks\n",
            "llisalang\n",
            "beeeeeeed\n",
            "fairyfreia          \n",
            "realworldmom\n",
            "radiogrinch \n",
            " with \n",
            "shopping\n",
            "houseeee\n",
            " sorite\n",
            "incoming\n",
            " thanks\n",
            "depression  \n",
            "scarych         \n",
            "name\n",
            " thanks\n",
            "depression  \n",
            "depression  \n",
            "reading\n",
            "may    \n",
            "quickshooter                \n",
            "around\n",
            " yup\n",
            "remysoon\n",
            "depression\n",
            "katelyniscool   \n",
            "depression  \n",
            "shaundiviney\n",
            " thanks\n",
            "comeagainjen   \n",
            "lonlonraanch\n",
            "spurofmoment\n",
            "  thirsty\n",
            "oneofusisfdup\n",
            "party \n",
            "  updates\n",
            "     subway\n",
            " whaaatever\n",
            "name\n"
          ]
        }
      ]
    },
    {
      "cell_type": "code",
      "metadata": {
        "id": "U5lXljaX4nx8"
      },
      "source": [
        "traning_df.to_csv('/content/Train-Dataset-prcessed.csv',index=False)\n",
        "testing_df.to_csv('/content/Test-Dataset-prcessed.csv',index=False)"
      ],
      "execution_count": 18,
      "outputs": []
    },
    {
      "cell_type": "markdown",
      "metadata": {
        "id": "pS1_ntiM5itz"
      },
      "source": [
        "# Training & `RNN` model\n"
      ]
    },
    {
      "cell_type": "code",
      "metadata": {
        "colab": {
          "base_uri": "https://localhost:8080/"
        },
        "id": "VCpz-8Tl6EX0",
        "outputId": "64807a6f-58ba-4026-8c6c-740da369c612"
      },
      "source": [
        "# import some importent library or packages \n",
        "import matplotlib.pyplot as plt\n",
        "import warnings\n",
        "import time,sys,re,string\n",
        "import copy\n",
        "\n",
        "import pandas as pd\n",
        "import numpy as np\n",
        "import cv2\n",
        "import os\n",
        "import pathlib\n",
        "import zipfile\n",
        "import torch\n",
        "import torchvision\n",
        "from torchvision import models\n",
        "import torchvision.transforms as transforms\n",
        "from torch.utils.data import Dataset, DataLoader, ConcatDataset\n",
        "\n",
        "import torch.optim as optim\n",
        "import pathlib\n",
        "import shutil\n",
        "from pathlib import Path\n",
        "from collections import Counter\n",
        "!pip install torchsummary\n",
        "!pip install torchinfo\n",
        "from torchinfo import summary\n",
        "from sklearn.utils import shuffle\n",
        "!pip install torchviz\n",
        "from torchviz import make_dot, make_dot_from_trace\n",
        "try:\n",
        "  import contractions\n",
        "except:\n",
        "  !pip install contractions\n",
        "import contractions\n",
        "from torchtext.legacy.data import Field, TabularDataset, BucketIterator\n",
        "from torchtext.data.utils import get_tokenizer\n",
        "from torchtext.vocab import build_vocab_from_iterator, Vectors, GloVe\n",
        "from torch.nn.utils.rnn import pack_padded_sequence, pad_packed_sequence\n",
        "\n",
        "import nltk\n",
        "try:\n",
        "    nltk.data.find('tokenizers/punkt')\n",
        "    nltk.data.find('averaged_perceptron_tagger')\n",
        "    nltk.data.find('brown')\n",
        "except LookupError:\n",
        "    nltk.download('averaged_perceptron_tagger')\n",
        "    nltk.download('brown')\n",
        "    nltk.download('punkt')\n",
        "from nltk import sent_tokenize,word_tokenize\n",
        "\n",
        "\n",
        "warnings.filterwarnings('ignore')\n",
        "torch.manual_seed(0)"
      ],
      "execution_count": 19,
      "outputs": [
        {
          "output_type": "stream",
          "name": "stdout",
          "text": [
            "Requirement already satisfied: torchsummary in /usr/local/lib/python3.7/dist-packages (1.5.1)\n",
            "Requirement already satisfied: torchinfo in /usr/local/lib/python3.7/dist-packages (1.5.3)\n",
            "Requirement already satisfied: torchviz in /usr/local/lib/python3.7/dist-packages (0.0.2)\n",
            "Requirement already satisfied: torch in /usr/local/lib/python3.7/dist-packages (from torchviz) (1.9.0+cu102)\n",
            "Requirement already satisfied: graphviz in /usr/local/lib/python3.7/dist-packages (from torchviz) (0.10.1)\n",
            "Requirement already satisfied: typing-extensions in /usr/local/lib/python3.7/dist-packages (from torch->torchviz) (3.7.4.3)\n",
            "[nltk_data] Downloading package averaged_perceptron_tagger to\n",
            "[nltk_data]     /root/nltk_data...\n",
            "[nltk_data]   Package averaged_perceptron_tagger is already up-to-\n",
            "[nltk_data]       date!\n",
            "[nltk_data] Downloading package brown to /root/nltk_data...\n",
            "[nltk_data]   Package brown is already up-to-date!\n",
            "[nltk_data] Downloading package punkt to /root/nltk_data...\n",
            "[nltk_data]   Package punkt is already up-to-date!\n"
          ]
        },
        {
          "output_type": "execute_result",
          "data": {
            "text/plain": [
              "<torch._C.Generator at 0x7fbf2c0dd5f0>"
            ]
          },
          "metadata": {},
          "execution_count": 19
        }
      ]
    },
    {
      "cell_type": "code",
      "metadata": {
        "id": "-4O9tu5u6LC6"
      },
      "source": [
        "traning_df = pd.read_csv('/content/Train-Dataset-prcessed.csv')\n",
        "testing_df = pd.read_csv('/content/Test-Dataset-prcessed.csv')"
      ],
      "execution_count": 20,
      "outputs": []
    },
    {
      "cell_type": "code",
      "metadata": {
        "colab": {
          "base_uri": "https://localhost:8080/",
          "height": 419
        },
        "id": "kQmdyRqE6fwK",
        "outputId": "d344e220-1bc4-4196-dc79-1050f64711dc"
      },
      "source": [
        "traning_df"
      ],
      "execution_count": 21,
      "outputs": [
        {
          "output_type": "execute_result",
          "data": {
            "text/html": [
              "<div>\n",
              "<style scoped>\n",
              "    .dataframe tbody tr th:only-of-type {\n",
              "        vertical-align: middle;\n",
              "    }\n",
              "\n",
              "    .dataframe tbody tr th {\n",
              "        vertical-align: top;\n",
              "    }\n",
              "\n",
              "    .dataframe thead th {\n",
              "        text-align: right;\n",
              "    }\n",
              "</style>\n",
              "<table border=\"1\" class=\"dataframe\">\n",
              "  <thead>\n",
              "    <tr style=\"text-align: right;\">\n",
              "      <th></th>\n",
              "      <th>sentiment</th>\n",
              "      <th>number_of_word</th>\n",
              "      <th>number_of_letter</th>\n",
              "      <th>tweets</th>\n",
              "    </tr>\n",
              "  </thead>\n",
              "  <tbody>\n",
              "    <tr>\n",
              "      <th>0</th>\n",
              "      <td>1</td>\n",
              "      <td>14</td>\n",
              "      <td>119</td>\n",
              "      <td>reneecarrollaz kylekashuv these snowflakes wou...</td>\n",
              "    </tr>\n",
              "    <tr>\n",
              "      <th>1</th>\n",
              "      <td>0</td>\n",
              "      <td>2</td>\n",
              "      <td>13</td>\n",
              "      <td>loving summer</td>\n",
              "    </tr>\n",
              "    <tr>\n",
              "      <th>2</th>\n",
              "      <td>0</td>\n",
              "      <td>10</td>\n",
              "      <td>64</td>\n",
              "      <td>about to pass out super tiredgood night twitte...</td>\n",
              "    </tr>\n",
              "    <tr>\n",
              "      <th>3</th>\n",
              "      <td>0</td>\n",
              "      <td>5</td>\n",
              "      <td>32</td>\n",
              "      <td>photo have notgotaprayer me too</td>\n",
              "    </tr>\n",
              "    <tr>\n",
              "      <th>4</th>\n",
              "      <td>0</td>\n",
              "      <td>22</td>\n",
              "      <td>118</td>\n",
              "      <td>macitout and recording music here with nona he...</td>\n",
              "    </tr>\n",
              "    <tr>\n",
              "      <th>...</th>\n",
              "      <td>...</td>\n",
              "      <td>...</td>\n",
              "      <td>...</td>\n",
              "      <td>...</td>\n",
              "    </tr>\n",
              "    <tr>\n",
              "      <th>8239</th>\n",
              "      <td>1</td>\n",
              "      <td>45</td>\n",
              "      <td>266</td>\n",
              "      <td>genechat largepopulation studies that look for...</td>\n",
              "    </tr>\n",
              "    <tr>\n",
              "      <th>8240</th>\n",
              "      <td>1</td>\n",
              "      <td>32</td>\n",
              "      <td>166</td>\n",
              "      <td>i spent all of  grade crying for absolutely no...</td>\n",
              "    </tr>\n",
              "    <tr>\n",
              "      <th>8241</th>\n",
              "      <td>1</td>\n",
              "      <td>34</td>\n",
              "      <td>182</td>\n",
              "      <td>i mean i think i am just being funny but appar...</td>\n",
              "    </tr>\n",
              "    <tr>\n",
              "      <th>8242</th>\n",
              "      <td>0</td>\n",
              "      <td>20</td>\n",
              "      <td>103</td>\n",
              "      <td>comeagainjen jenn i just wanted to say that i ...</td>\n",
              "    </tr>\n",
              "    <tr>\n",
              "      <th>8243</th>\n",
              "      <td>0</td>\n",
              "      <td>9</td>\n",
              "      <td>46</td>\n",
              "      <td>blimey  predictive text is a bugger is not it</td>\n",
              "    </tr>\n",
              "  </tbody>\n",
              "</table>\n",
              "<p>8244 rows × 4 columns</p>\n",
              "</div>"
            ],
            "text/plain": [
              "      sentiment  ...                                             tweets\n",
              "0             1  ...  reneecarrollaz kylekashuv these snowflakes wou...\n",
              "1             0  ...                                      loving summer\n",
              "2             0  ...  about to pass out super tiredgood night twitte...\n",
              "3             0  ...                   photo have notgotaprayer me too \n",
              "4             0  ...  macitout and recording music here with nona he...\n",
              "...         ...  ...                                                ...\n",
              "8239          1  ...  genechat largepopulation studies that look for...\n",
              "8240          1  ...  i spent all of  grade crying for absolutely no...\n",
              "8241          1  ...  i mean i think i am just being funny but appar...\n",
              "8242          0  ...  comeagainjen jenn i just wanted to say that i ...\n",
              "8243          0  ...      blimey  predictive text is a bugger is not it\n",
              "\n",
              "[8244 rows x 4 columns]"
            ]
          },
          "metadata": {},
          "execution_count": 21
        }
      ]
    },
    {
      "cell_type": "code",
      "metadata": {
        "id": "7n0l74pAlyr_"
      },
      "source": [
        "label_field = Field(sequential=False, use_vocab=False, batch_first=True, dtype=torch.float)\n",
        "text_field = Field(tokenize='spacy', lower=True, include_lengths=True, batch_first=True)\n",
        "fields = [('sentiment', label_field),  ('tweets', text_field)]\n",
        "\n",
        "\n",
        "train_data = TabularDataset(path=\"/content/Train-Dataset-prcessed.csv\",\n",
        "                                 format=\"csv\",\n",
        "                                  fields=fields,\n",
        "                                 skip_header=True)\n",
        "\n",
        "valid_data = TabularDataset(path=\"/content/Test-Dataset-prcessed.csv\",\n",
        "                                 format=\"csv\",\n",
        "                                  fields=fields,\n",
        "                                 skip_header=True)\n",
        "\n",
        "device = torch.device(\"cuda\" if torch.cuda.is_available() else \"cpu\")\n",
        "\n",
        "train_iter = BucketIterator(train_data, batch_size=32, sort_key=lambda x: len(x.tweets),\n",
        "                            device=device, sort=True, sort_within_batch=True)\n",
        "valid_iter = BucketIterator(valid_data, batch_size=32, sort_key=lambda x: len(x.tweets),\n",
        "                            device=device, sort=True, sort_within_batch=True)\n",
        "\n",
        "\n",
        "text_field.build_vocab(train_data,) # min_freq=3,vectors = \"glove.6B.100d\"\n",
        "label_field.build_vocab(train_data)"
      ],
      "execution_count": 22,
      "outputs": []
    },
    {
      "cell_type": "code",
      "metadata": {
        "colab": {
          "base_uri": "https://localhost:8080/"
        },
        "id": "9GXT5L5ADSU3",
        "outputId": "e7030892-d38a-433f-ba0b-5822a0fbabf4"
      },
      "source": [
        "#No. of unique tokens in text\n",
        "print(\"Size of TEXT vocabulary:\",len(text_field.vocab))\n",
        "\n",
        "#No. of unique tokens in label\n",
        "print(\"Size of LABEL vocabulary:\",len(label_field.vocab))\n",
        "\n",
        "#Commonly used words\n",
        "print(text_field.vocab.freqs.most_common(10))  \n",
        "\n",
        "#Word dictionary\n",
        "print(text_field.vocab.stoi)   "
      ],
      "execution_count": 23,
      "outputs": [
        {
          "output_type": "stream",
          "name": "stdout",
          "text": [
            "Size of TEXT vocabulary: 64\n",
            "Size of LABEL vocabulary: 3\n",
            "[('8', 459), ('6', 446), ('7', 427), ('5', 407), ('9', 407), ('13', 379), ('10', 376), ('11', 369), ('12', 359), ('4', 329)]\n",
            "defaultdict(<bound method Vocab._default_unk_index of <torchtext.legacy.vocab.Vocab object at 0x7fbf0c7157d0>>, {'<unk>': 0, '<pad>': 1, '8': 2, '6': 3, '7': 4, '5': 5, '9': 6, '13': 7, '10': 8, '11': 9, '12': 10, '4': 11, '15': 12, '14': 13, '16': 14, '18': 15, '17': 16, '3': 17, '19': 18, '21': 19, '20': 20, '23': 21, '22': 22, '24': 23, '2': 24, '25': 25, '26': 26, '27': 27, '29': 28, '28': 29, '1': 30, '30': 31, '32': 32, '31': 33, '36': 34, '38': 35, '39': 36, '45': 37, '41': 38, '33': 39, '34': 40, '42': 41, '43': 42, '48': 43, '49': 44, '44': 45, '47': 46, '46': 47, '37': 48, '40': 49, '35': 50, '50': 51, '52': 52, '51': 53, '53': 54, '54': 55, '55': 56, '56': 57, '58': 58, '61': 59, '57': 60, '59': 61, '60': 62, '62': 63})\n"
          ]
        }
      ]
    },
    {
      "cell_type": "markdown",
      "metadata": {
        "id": "u5efYiqDDDfD"
      },
      "source": [
        "## RNN Model"
      ]
    },
    {
      "cell_type": "code",
      "metadata": {
        "id": "pf-hTYsT4TH-"
      },
      "source": [
        "import torch.nn as nn\n",
        "class RNNModel(torch.nn.Module):\n",
        "\n",
        "    def __init__(self, embedding_dim, hidden_dim, vocab_size, tagset_size):\n",
        "        super(RNNModel, self).__init__()\n",
        "        self.hidden_dim = hidden_dim\n",
        "\n",
        "        self.word_embeddings = nn.Embedding(vocab_size, embedding_dim)\n",
        "\n",
        "        self.rnn = nn.RNN(embedding_dim, hidden_dim, 2, batch_first=True, nonlinearity='relu')\n",
        "        self.fc = nn.Linear(hidden_dim, tagset_size)\n",
        "\n",
        "    def forward(self, sentence):\n",
        "        embeds = self.word_embeddings(sentence)\n",
        "        # print(len(sentence))\n",
        "        # x = embeds.view(len(sentence), 1, -1)\n",
        "         # Initialize hidden state with zeros\n",
        "        h0 = torch.autograd.Variable(torch.zeros(2, sentence.size(0), self.hidden_dim))\n",
        "            \n",
        "        out, hn = self.rnn(embeds, h0)\n",
        "        out = self.fc(out[:, -1, :]) \n",
        "        return out\n"
      ],
      "execution_count": 24,
      "outputs": []
    },
    {
      "cell_type": "code",
      "metadata": {
        "id": "-OQmhLFsFY21"
      },
      "source": [
        "EMBEDDING_DIM = 6\n",
        "HIDDEN_DIM = 6\n",
        "model = RNNModel(EMBEDDING_DIM, HIDDEN_DIM, len(text_field.vocab), 1)\n",
        "loss_function = torch.nn.NLLLoss()\n",
        "optimizer = optim.SGD(model.parameters(), lr=0.01)\n",
        "criterion = torch.nn.BCEWithLogitsLoss()"
      ],
      "execution_count": 25,
      "outputs": []
    },
    {
      "cell_type": "code",
      "metadata": {
        "id": "qhleHCW344v2"
      },
      "source": [
        "def binary_accuracy(preds, y):\n",
        "\n",
        "    rounded_preds = torch.round(torch.sigmoid(preds))\n",
        "    correct = (rounded_preds == y).float() \n",
        "    acc = correct.sum() / len(correct)\n",
        "    return acc"
      ],
      "execution_count": 26,
      "outputs": []
    },
    {
      "cell_type": "code",
      "metadata": {
        "id": "ZWHp10bmBKv0"
      },
      "source": [
        "# training function \n",
        "def train(model, iterator):\n",
        "    \n",
        "    epoch_loss = 0\n",
        "    epoch_acc = 0\n",
        "    \n",
        "    model.train()\n",
        "    \n",
        "    for i,batch in enumerate( iterator,1):\n",
        "        tweets, tweets_lengths = batch.tweets\n",
        "        \n",
        "        optimizer.zero_grad()\n",
        "        predictions = model(tweets,).squeeze(1)\n",
        "        \n",
        "        loss = criterion(predictions, batch.sentiment)\n",
        "        acc = binary_accuracy(predictions, batch.sentiment)\n",
        "\n",
        "        loss.backward()\n",
        "        optimizer.step()\n",
        "        \n",
        "        epoch_loss += loss.item()\n",
        "        epoch_acc += acc.item()\n",
        "\n",
        "        print_val = f\"running_loss : {(loss.item()):.6f}\\t\"\n",
        "        print_val += f\"running_corrects : {acc.item():.6f}\\t\"  \n",
        "        sys.stdout.write('\\r' + str(print_val))\n",
        "        \n",
        "\n",
        "    return epoch_loss / len(iterator), epoch_acc / len(iterator)"
      ],
      "execution_count": 27,
      "outputs": []
    },
    {
      "cell_type": "code",
      "metadata": {
        "id": "mS4_HLBXFwF6"
      },
      "source": [
        "def evaluate(model, iterator):\n",
        "    \n",
        "    epoch_loss = 0\n",
        "    epoch_acc = 0\n",
        "    model.eval()\n",
        "    \n",
        "    with torch.no_grad():\n",
        "        for batch in iterator:\n",
        "            tweets, tweets_lengths = batch.tweets\n",
        "            predictions = model(tweets,).squeeze(1)\n",
        "            loss = criterion(predictions, batch.sentiment)\n",
        "            acc = binary_accuracy(predictions, batch.sentiment)\n",
        "            \n",
        "            epoch_acc += acc.item()\n",
        "            epoch_loss += loss.item()\n",
        "        \n",
        "    return  epoch_loss / len(iterator), epoch_acc / len(iterator) "
      ],
      "execution_count": 28,
      "outputs": []
    },
    {
      "cell_type": "code",
      "metadata": {
        "colab": {
          "base_uri": "https://localhost:8080/"
        },
        "id": "qcKeZOYxF4OA",
        "outputId": "66cc4600-d8ca-4314-a6e8-46d3298df3d0"
      },
      "source": [
        "t = time.time()\n",
        "loss=[]\n",
        "acc=[]\n",
        "val_acc=[]\n",
        "val_loss=[]\n",
        "num_epochs = 500\n",
        "\n",
        "for epoch in range(num_epochs):\n",
        "    \n",
        "    train_loss, train_acc = train(model, train_iter)\n",
        "    valid_loss, valid_acc = evaluate(model, valid_iter)\n",
        "    \n",
        "    print(f'\\tTrain Loss: {train_loss:.3f} | Train Acc: {train_acc*100:.2f}%  | Val. Acc: {valid_acc*100:.2f}%')\n",
        "    # print(f'\\t')\n",
        "    \n",
        "    loss.append(train_loss)\n",
        "    acc.append(train_acc)\n",
        "    val_loss.append(valid_loss)\n",
        "    val_acc.append(valid_acc)\n",
        "    \n",
        "print(f'time:{time.time()-t:.3f}')"
      ],
      "execution_count": 29,
      "outputs": [
        {
          "output_type": "stream",
          "name": "stdout",
          "text": [
            "running_loss : 0.620854\trunning_corrects : 0.650000\t\tTrain Loss: 0.625 | Train Acc: 68.03%  | Val. Acc: 77.74%\n",
            "running_loss : 0.642528\trunning_corrects : 0.650000\t\tTrain Loss: 0.534 | Train Acc: 77.58%  | Val. Acc: 77.74%\n",
            "running_loss : 0.648882\trunning_corrects : 0.650000\t\tTrain Loss: 0.526 | Train Acc: 77.58%  | Val. Acc: 77.74%\n",
            "running_loss : 0.648717\trunning_corrects : 0.650000\t\tTrain Loss: 0.525 | Train Acc: 77.58%  | Val. Acc: 77.74%\n",
            "running_loss : 0.647076\trunning_corrects : 0.650000\t\tTrain Loss: 0.523 | Train Acc: 77.58%  | Val. Acc: 77.74%\n",
            "running_loss : 0.645144\trunning_corrects : 0.650000\t\tTrain Loss: 0.523 | Train Acc: 77.58%  | Val. Acc: 77.74%\n",
            "running_loss : 0.643093\trunning_corrects : 0.650000\t\tTrain Loss: 0.522 | Train Acc: 77.58%  | Val. Acc: 77.74%\n",
            "running_loss : 0.640952\trunning_corrects : 0.650000\t\tTrain Loss: 0.521 | Train Acc: 77.58%  | Val. Acc: 77.74%\n",
            "running_loss : 0.638713\trunning_corrects : 0.650000\t\tTrain Loss: 0.520 | Train Acc: 77.58%  | Val. Acc: 77.74%\n",
            "running_loss : 0.636268\trunning_corrects : 0.650000\t\tTrain Loss: 0.519 | Train Acc: 77.58%  | Val. Acc: 77.74%\n",
            "running_loss : 0.633782\trunning_corrects : 0.650000\t\tTrain Loss: 0.518 | Train Acc: 77.58%  | Val. Acc: 77.74%\n",
            "running_loss : 0.631173\trunning_corrects : 0.650000\t\tTrain Loss: 0.517 | Train Acc: 77.58%  | Val. Acc: 77.74%\n",
            "running_loss : 0.628342\trunning_corrects : 0.650000\t\tTrain Loss: 0.517 | Train Acc: 77.58%  | Val. Acc: 77.74%\n",
            "running_loss : 0.625692\trunning_corrects : 0.650000\t\tTrain Loss: 0.516 | Train Acc: 77.58%  | Val. Acc: 77.74%\n",
            "running_loss : 0.622954\trunning_corrects : 0.650000\t\tTrain Loss: 0.515 | Train Acc: 77.58%  | Val. Acc: 77.74%\n",
            "running_loss : 0.620292\trunning_corrects : 0.650000\t\tTrain Loss: 0.515 | Train Acc: 77.58%  | Val. Acc: 77.74%\n",
            "running_loss : 0.617673\trunning_corrects : 0.650000\t\tTrain Loss: 0.514 | Train Acc: 77.58%  | Val. Acc: 77.74%\n",
            "running_loss : 0.615419\trunning_corrects : 0.650000\t\tTrain Loss: 0.513 | Train Acc: 77.58%  | Val. Acc: 77.74%\n",
            "running_loss : 0.613422\trunning_corrects : 0.650000\t\tTrain Loss: 0.513 | Train Acc: 77.58%  | Val. Acc: 77.74%\n",
            "running_loss : 0.611473\trunning_corrects : 0.650000\t\tTrain Loss: 0.512 | Train Acc: 77.58%  | Val. Acc: 77.74%\n",
            "running_loss : 0.609521\trunning_corrects : 0.650000\t\tTrain Loss: 0.511 | Train Acc: 77.58%  | Val. Acc: 77.74%\n",
            "running_loss : 0.607839\trunning_corrects : 0.650000\t\tTrain Loss: 0.511 | Train Acc: 77.58%  | Val. Acc: 77.74%\n",
            "running_loss : 0.605938\trunning_corrects : 0.650000\t\tTrain Loss: 0.510 | Train Acc: 77.58%  | Val. Acc: 77.74%\n",
            "running_loss : 0.604087\trunning_corrects : 0.650000\t\tTrain Loss: 0.510 | Train Acc: 77.58%  | Val. Acc: 77.74%\n",
            "running_loss : 0.602299\trunning_corrects : 0.650000\t\tTrain Loss: 0.509 | Train Acc: 77.58%  | Val. Acc: 77.74%\n",
            "running_loss : 0.600475\trunning_corrects : 0.650000\t\tTrain Loss: 0.508 | Train Acc: 77.58%  | Val. Acc: 77.74%\n",
            "running_loss : 0.598761\trunning_corrects : 0.650000\t\tTrain Loss: 0.508 | Train Acc: 77.59%  | Val. Acc: 77.74%\n",
            "running_loss : 0.597410\trunning_corrects : 0.650000\t\tTrain Loss: 0.507 | Train Acc: 77.67%  | Val. Acc: 77.94%\n",
            "running_loss : 0.596304\trunning_corrects : 0.650000\t\tTrain Loss: 0.506 | Train Acc: 77.82%  | Val. Acc: 78.18%\n",
            "running_loss : 0.595262\trunning_corrects : 0.650000\t\tTrain Loss: 0.506 | Train Acc: 77.93%  | Val. Acc: 78.23%\n",
            "running_loss : 0.593809\trunning_corrects : 0.650000\t\tTrain Loss: 0.505 | Train Acc: 77.99%  | Val. Acc: 78.23%\n",
            "running_loss : 0.592480\trunning_corrects : 0.650000\t\tTrain Loss: 0.504 | Train Acc: 78.03%  | Val. Acc: 78.27%\n",
            "running_loss : 0.591358\trunning_corrects : 0.650000\t\tTrain Loss: 0.503 | Train Acc: 78.09%  | Val. Acc: 78.47%\n",
            "running_loss : 0.590255\trunning_corrects : 0.650000\t\tTrain Loss: 0.502 | Train Acc: 78.23%  | Val. Acc: 78.47%\n",
            "running_loss : 0.588629\trunning_corrects : 0.650000\t\tTrain Loss: 0.502 | Train Acc: 78.36%  | Val. Acc: 78.66%\n",
            "running_loss : 0.586505\trunning_corrects : 0.650000\t\tTrain Loss: 0.501 | Train Acc: 78.46%  | Val. Acc: 78.66%\n",
            "running_loss : 0.583271\trunning_corrects : 0.650000\t\tTrain Loss: 0.500 | Train Acc: 78.50%  | Val. Acc: 79.09%\n",
            "running_loss : 0.579902\trunning_corrects : 0.650000\t\tTrain Loss: 0.499 | Train Acc: 78.64%  | Val. Acc: 78.23%\n",
            "running_loss : 0.577295\trunning_corrects : 0.650000\t\tTrain Loss: 0.497 | Train Acc: 78.40%  | Val. Acc: 78.85%\n",
            "running_loss : 0.574449\trunning_corrects : 0.650000\t\tTrain Loss: 0.496 | Train Acc: 78.78%  | Val. Acc: 79.67%\n",
            "running_loss : 0.571448\trunning_corrects : 0.650000\t\tTrain Loss: 0.495 | Train Acc: 79.29%  | Val. Acc: 80.00%\n",
            "running_loss : 0.568242\trunning_corrects : 0.650000\t\tTrain Loss: 0.494 | Train Acc: 79.65%  | Val. Acc: 80.10%\n",
            "running_loss : 0.564681\trunning_corrects : 0.650000\t\tTrain Loss: 0.492 | Train Acc: 79.76%  | Val. Acc: 80.10%\n",
            "running_loss : 0.560946\trunning_corrects : 0.650000\t\tTrain Loss: 0.491 | Train Acc: 79.76%  | Val. Acc: 80.10%\n",
            "running_loss : 0.557597\trunning_corrects : 0.650000\t\tTrain Loss: 0.490 | Train Acc: 79.76%  | Val. Acc: 80.10%\n",
            "running_loss : 0.554658\trunning_corrects : 0.650000\t\tTrain Loss: 0.489 | Train Acc: 79.76%  | Val. Acc: 80.10%\n",
            "running_loss : 0.551957\trunning_corrects : 0.650000\t\tTrain Loss: 0.488 | Train Acc: 79.76%  | Val. Acc: 80.10%\n",
            "running_loss : 0.549298\trunning_corrects : 0.650000\t\tTrain Loss: 0.487 | Train Acc: 79.77%  | Val. Acc: 79.86%\n",
            "running_loss : 0.546789\trunning_corrects : 0.700000\t\tTrain Loss: 0.485 | Train Acc: 79.80%  | Val. Acc: 79.86%\n",
            "running_loss : 0.543871\trunning_corrects : 0.700000\t\tTrain Loss: 0.484 | Train Acc: 79.81%  | Val. Acc: 79.86%\n",
            "running_loss : 0.540465\trunning_corrects : 0.750000\t\tTrain Loss: 0.483 | Train Acc: 79.94%  | Val. Acc: 80.05%\n",
            "running_loss : 0.537380\trunning_corrects : 0.750000\t\tTrain Loss: 0.482 | Train Acc: 80.09%  | Val. Acc: 80.39%\n",
            "running_loss : 0.534327\trunning_corrects : 0.750000\t\tTrain Loss: 0.481 | Train Acc: 80.28%  | Val. Acc: 80.39%\n",
            "running_loss : 0.531326\trunning_corrects : 0.750000\t\tTrain Loss: 0.480 | Train Acc: 80.35%  | Val. Acc: 80.39%\n",
            "running_loss : 0.528167\trunning_corrects : 0.750000\t\tTrain Loss: 0.479 | Train Acc: 80.35%  | Val. Acc: 80.39%\n",
            "running_loss : 0.524394\trunning_corrects : 0.750000\t\tTrain Loss: 0.478 | Train Acc: 80.38%  | Val. Acc: 80.49%\n",
            "running_loss : 0.521269\trunning_corrects : 0.750000\t\tTrain Loss: 0.477 | Train Acc: 80.52%  | Val. Acc: 80.49%\n",
            "running_loss : 0.518444\trunning_corrects : 0.750000\t\tTrain Loss: 0.476 | Train Acc: 80.60%  | Val. Acc: 80.49%\n",
            "running_loss : 0.515274\trunning_corrects : 0.750000\t\tTrain Loss: 0.475 | Train Acc: 80.68%  | Val. Acc: 80.49%\n",
            "running_loss : 0.510359\trunning_corrects : 0.750000\t\tTrain Loss: 0.474 | Train Acc: 80.68%  | Val. Acc: 80.49%\n",
            "running_loss : 0.503985\trunning_corrects : 0.750000\t\tTrain Loss: 0.473 | Train Acc: 80.68%  | Val. Acc: 80.49%\n",
            "running_loss : 0.498755\trunning_corrects : 0.800000\t\tTrain Loss: 0.472 | Train Acc: 80.78%  | Val. Acc: 80.73%\n",
            "running_loss : 0.493920\trunning_corrects : 0.800000\t\tTrain Loss: 0.471 | Train Acc: 81.00%  | Val. Acc: 80.92%\n",
            "running_loss : 0.489888\trunning_corrects : 0.800000\t\tTrain Loss: 0.470 | Train Acc: 81.22%  | Val. Acc: 80.92%\n",
            "running_loss : 0.488205\trunning_corrects : 0.800000\t\tTrain Loss: 0.469 | Train Acc: 81.32%  | Val. Acc: 80.92%\n",
            "running_loss : 0.485841\trunning_corrects : 0.800000\t\tTrain Loss: 0.468 | Train Acc: 81.37%  | Val. Acc: 80.92%\n",
            "running_loss : 0.484085\trunning_corrects : 0.800000\t\tTrain Loss: 0.467 | Train Acc: 81.72%  | Val. Acc: 81.06%\n",
            "running_loss : 0.481770\trunning_corrects : 0.800000\t\tTrain Loss: 0.466 | Train Acc: 82.12%  | Val. Acc: 81.93%\n",
            "running_loss : 0.480818\trunning_corrects : 0.800000\t\tTrain Loss: 0.465 | Train Acc: 82.20%  | Val. Acc: 81.93%\n",
            "running_loss : 0.478361\trunning_corrects : 0.800000\t\tTrain Loss: 0.464 | Train Acc: 82.21%  | Val. Acc: 81.93%\n",
            "running_loss : 0.475653\trunning_corrects : 0.800000\t\tTrain Loss: 0.463 | Train Acc: 82.23%  | Val. Acc: 81.93%\n",
            "running_loss : 0.473185\trunning_corrects : 0.800000\t\tTrain Loss: 0.462 | Train Acc: 82.29%  | Val. Acc: 81.93%\n",
            "running_loss : 0.470747\trunning_corrects : 0.800000\t\tTrain Loss: 0.462 | Train Acc: 82.37%  | Val. Acc: 82.22%\n",
            "running_loss : 0.468506\trunning_corrects : 0.800000\t\tTrain Loss: 0.461 | Train Acc: 82.48%  | Val. Acc: 82.22%\n",
            "running_loss : 0.466234\trunning_corrects : 0.800000\t\tTrain Loss: 0.460 | Train Acc: 82.48%  | Val. Acc: 82.22%\n",
            "running_loss : 0.463902\trunning_corrects : 0.800000\t\tTrain Loss: 0.459 | Train Acc: 82.48%  | Val. Acc: 82.22%\n",
            "running_loss : 0.461587\trunning_corrects : 0.800000\t\tTrain Loss: 0.459 | Train Acc: 82.48%  | Val. Acc: 82.22%\n",
            "running_loss : 0.459215\trunning_corrects : 0.800000\t\tTrain Loss: 0.458 | Train Acc: 82.48%  | Val. Acc: 82.22%\n",
            "running_loss : 0.456898\trunning_corrects : 0.800000\t\tTrain Loss: 0.458 | Train Acc: 82.48%  | Val. Acc: 82.22%\n",
            "running_loss : 0.455115\trunning_corrects : 0.800000\t\tTrain Loss: 0.457 | Train Acc: 82.50%  | Val. Acc: 82.31%\n",
            "running_loss : 0.453526\trunning_corrects : 0.850000\t\tTrain Loss: 0.457 | Train Acc: 82.63%  | Val. Acc: 82.31%\n",
            "running_loss : 0.451982\trunning_corrects : 0.850000\t\tTrain Loss: 0.456 | Train Acc: 82.68%  | Val. Acc: 82.31%\n",
            "running_loss : 0.450163\trunning_corrects : 0.850000\t\tTrain Loss: 0.456 | Train Acc: 82.81%  | Val. Acc: 82.31%\n",
            "running_loss : 0.448666\trunning_corrects : 0.850000\t\tTrain Loss: 0.455 | Train Acc: 82.81%  | Val. Acc: 82.31%\n",
            "running_loss : 0.447166\trunning_corrects : 0.850000\t\tTrain Loss: 0.455 | Train Acc: 82.81%  | Val. Acc: 82.31%\n",
            "running_loss : 0.445671\trunning_corrects : 0.850000\t\tTrain Loss: 0.455 | Train Acc: 82.81%  | Val. Acc: 82.31%\n",
            "running_loss : 0.444386\trunning_corrects : 0.850000\t\tTrain Loss: 0.454 | Train Acc: 82.85%  | Val. Acc: 82.31%\n",
            "running_loss : 0.443076\trunning_corrects : 0.850000\t\tTrain Loss: 0.454 | Train Acc: 82.89%  | Val. Acc: 82.31%\n",
            "running_loss : 0.441919\trunning_corrects : 0.850000\t\tTrain Loss: 0.454 | Train Acc: 82.89%  | Val. Acc: 82.55%\n",
            "running_loss : 0.441058\trunning_corrects : 0.850000\t\tTrain Loss: 0.453 | Train Acc: 82.96%  | Val. Acc: 82.55%\n",
            "running_loss : 0.440145\trunning_corrects : 0.850000\t\tTrain Loss: 0.453 | Train Acc: 83.00%  | Val. Acc: 82.55%\n",
            "running_loss : 0.439133\trunning_corrects : 0.850000\t\tTrain Loss: 0.453 | Train Acc: 83.01%  | Val. Acc: 82.55%\n",
            "running_loss : 0.438073\trunning_corrects : 0.850000\t\tTrain Loss: 0.452 | Train Acc: 83.05%  | Val. Acc: 82.55%\n",
            "running_loss : 0.437065\trunning_corrects : 0.850000\t\tTrain Loss: 0.452 | Train Acc: 83.05%  | Val. Acc: 82.55%\n",
            "running_loss : 0.435951\trunning_corrects : 0.850000\t\tTrain Loss: 0.452 | Train Acc: 83.07%  | Val. Acc: 82.55%\n",
            "running_loss : 0.435303\trunning_corrects : 0.850000\t\tTrain Loss: 0.451 | Train Acc: 83.07%  | Val. Acc: 82.55%\n",
            "running_loss : 0.434568\trunning_corrects : 0.850000\t\tTrain Loss: 0.451 | Train Acc: 83.07%  | Val. Acc: 82.55%\n",
            "running_loss : 0.433824\trunning_corrects : 0.850000\t\tTrain Loss: 0.451 | Train Acc: 83.07%  | Val. Acc: 82.55%\n",
            "running_loss : 0.433276\trunning_corrects : 0.850000\t\tTrain Loss: 0.451 | Train Acc: 83.07%  | Val. Acc: 82.55%\n",
            "running_loss : 0.432837\trunning_corrects : 0.850000\t\tTrain Loss: 0.450 | Train Acc: 83.07%  | Val. Acc: 82.55%\n",
            "running_loss : 0.432480\trunning_corrects : 0.850000\t\tTrain Loss: 0.450 | Train Acc: 83.07%  | Val. Acc: 82.55%\n",
            "running_loss : 0.431939\trunning_corrects : 0.850000\t\tTrain Loss: 0.450 | Train Acc: 83.07%  | Val. Acc: 82.55%\n",
            "running_loss : 0.431545\trunning_corrects : 0.850000\t\tTrain Loss: 0.450 | Train Acc: 83.07%  | Val. Acc: 82.55%\n",
            "running_loss : 0.431111\trunning_corrects : 0.850000\t\tTrain Loss: 0.449 | Train Acc: 83.07%  | Val. Acc: 82.55%\n",
            "running_loss : 0.430592\trunning_corrects : 0.850000\t\tTrain Loss: 0.449 | Train Acc: 83.07%  | Val. Acc: 82.55%\n",
            "running_loss : 0.429243\trunning_corrects : 0.850000\t\tTrain Loss: 0.449 | Train Acc: 83.07%  | Val. Acc: 82.55%\n",
            "running_loss : 0.428988\trunning_corrects : 0.850000\t\tTrain Loss: 0.449 | Train Acc: 83.07%  | Val. Acc: 82.55%\n",
            "running_loss : 0.428695\trunning_corrects : 0.850000\t\tTrain Loss: 0.448 | Train Acc: 83.07%  | Val. Acc: 82.65%\n",
            "running_loss : 0.428273\trunning_corrects : 0.850000\t\tTrain Loss: 0.448 | Train Acc: 83.09%  | Val. Acc: 82.65%\n",
            "running_loss : 0.428001\trunning_corrects : 0.850000\t\tTrain Loss: 0.448 | Train Acc: 83.11%  | Val. Acc: 82.65%\n",
            "running_loss : 0.427653\trunning_corrects : 0.850000\t\tTrain Loss: 0.448 | Train Acc: 83.12%  | Val. Acc: 82.65%\n",
            "running_loss : 0.427257\trunning_corrects : 0.850000\t\tTrain Loss: 0.448 | Train Acc: 83.12%  | Val. Acc: 82.65%\n",
            "running_loss : 0.427108\trunning_corrects : 0.850000\t\tTrain Loss: 0.447 | Train Acc: 83.12%  | Val. Acc: 82.65%\n",
            "running_loss : 0.426826\trunning_corrects : 0.850000\t\tTrain Loss: 0.447 | Train Acc: 83.12%  | Val. Acc: 82.65%\n",
            "running_loss : 0.426485\trunning_corrects : 0.850000\t\tTrain Loss: 0.447 | Train Acc: 83.12%  | Val. Acc: 82.65%\n",
            "running_loss : 0.426477\trunning_corrects : 0.850000\t\tTrain Loss: 0.447 | Train Acc: 83.12%  | Val. Acc: 82.65%\n",
            "running_loss : 0.426430\trunning_corrects : 0.850000\t\tTrain Loss: 0.447 | Train Acc: 83.12%  | Val. Acc: 82.65%\n",
            "running_loss : 0.426186\trunning_corrects : 0.850000\t\tTrain Loss: 0.447 | Train Acc: 83.12%  | Val. Acc: 82.65%\n",
            "running_loss : 0.426189\trunning_corrects : 0.850000\t\tTrain Loss: 0.446 | Train Acc: 83.12%  | Val. Acc: 82.65%\n",
            "running_loss : 0.426036\trunning_corrects : 0.850000\t\tTrain Loss: 0.446 | Train Acc: 83.12%  | Val. Acc: 82.65%\n",
            "running_loss : 0.425691\trunning_corrects : 0.850000\t\tTrain Loss: 0.446 | Train Acc: 83.12%  | Val. Acc: 82.65%\n",
            "running_loss : 0.425481\trunning_corrects : 0.850000\t\tTrain Loss: 0.446 | Train Acc: 83.12%  | Val. Acc: 82.65%\n",
            "running_loss : 0.425259\trunning_corrects : 0.850000\t\tTrain Loss: 0.446 | Train Acc: 83.12%  | Val. Acc: 82.65%\n",
            "running_loss : 0.424138\trunning_corrects : 0.850000\t\tTrain Loss: 0.446 | Train Acc: 83.12%  | Val. Acc: 82.65%\n",
            "running_loss : 0.423836\trunning_corrects : 0.850000\t\tTrain Loss: 0.445 | Train Acc: 83.12%  | Val. Acc: 82.65%\n",
            "running_loss : 0.423689\trunning_corrects : 0.850000\t\tTrain Loss: 0.445 | Train Acc: 83.12%  | Val. Acc: 82.65%\n",
            "running_loss : 0.423539\trunning_corrects : 0.850000\t\tTrain Loss: 0.445 | Train Acc: 83.12%  | Val. Acc: 82.65%\n",
            "running_loss : 0.422073\trunning_corrects : 0.850000\t\tTrain Loss: 0.445 | Train Acc: 83.12%  | Val. Acc: 82.65%\n",
            "running_loss : 0.421244\trunning_corrects : 0.850000\t\tTrain Loss: 0.444 | Train Acc: 83.12%  | Val. Acc: 82.65%\n",
            "running_loss : 0.421199\trunning_corrects : 0.850000\t\tTrain Loss: 0.444 | Train Acc: 83.12%  | Val. Acc: 82.65%\n",
            "running_loss : 0.421244\trunning_corrects : 0.850000\t\tTrain Loss: 0.444 | Train Acc: 83.12%  | Val. Acc: 82.65%\n",
            "running_loss : 0.421302\trunning_corrects : 0.850000\t\tTrain Loss: 0.444 | Train Acc: 83.12%  | Val. Acc: 82.65%\n",
            "running_loss : 0.421000\trunning_corrects : 0.850000\t\tTrain Loss: 0.444 | Train Acc: 83.12%  | Val. Acc: 82.65%\n",
            "running_loss : 0.421714\trunning_corrects : 0.850000\t\tTrain Loss: 0.443 | Train Acc: 83.12%  | Val. Acc: 82.65%\n",
            "running_loss : 0.421267\trunning_corrects : 0.850000\t\tTrain Loss: 0.443 | Train Acc: 83.12%  | Val. Acc: 82.65%\n",
            "running_loss : 0.421156\trunning_corrects : 0.850000\t\tTrain Loss: 0.443 | Train Acc: 83.12%  | Val. Acc: 82.65%\n",
            "running_loss : 0.421491\trunning_corrects : 0.850000\t\tTrain Loss: 0.443 | Train Acc: 83.13%  | Val. Acc: 82.65%\n",
            "running_loss : 0.421632\trunning_corrects : 0.850000\t\tTrain Loss: 0.443 | Train Acc: 83.21%  | Val. Acc: 82.84%\n",
            "running_loss : 0.422169\trunning_corrects : 0.850000\t\tTrain Loss: 0.442 | Train Acc: 83.31%  | Val. Acc: 82.84%\n",
            "running_loss : 0.422230\trunning_corrects : 0.850000\t\tTrain Loss: 0.442 | Train Acc: 83.31%  | Val. Acc: 82.84%\n",
            "running_loss : 0.422554\trunning_corrects : 0.850000\t\tTrain Loss: 0.442 | Train Acc: 83.31%  | Val. Acc: 82.84%\n",
            "running_loss : 0.422680\trunning_corrects : 0.850000\t\tTrain Loss: 0.442 | Train Acc: 83.31%  | Val. Acc: 82.84%\n",
            "running_loss : 0.422513\trunning_corrects : 0.850000\t\tTrain Loss: 0.442 | Train Acc: 83.31%  | Val. Acc: 82.84%\n",
            "running_loss : 0.422609\trunning_corrects : 0.850000\t\tTrain Loss: 0.442 | Train Acc: 83.31%  | Val. Acc: 82.84%\n",
            "running_loss : 0.422712\trunning_corrects : 0.850000\t\tTrain Loss: 0.441 | Train Acc: 83.31%  | Val. Acc: 82.84%\n",
            "running_loss : 0.422915\trunning_corrects : 0.850000\t\tTrain Loss: 0.441 | Train Acc: 83.31%  | Val. Acc: 82.84%\n",
            "running_loss : 0.422730\trunning_corrects : 0.850000\t\tTrain Loss: 0.441 | Train Acc: 83.31%  | Val. Acc: 82.84%\n",
            "running_loss : 0.422678\trunning_corrects : 0.850000\t\tTrain Loss: 0.441 | Train Acc: 83.31%  | Val. Acc: 82.84%\n",
            "running_loss : 0.422739\trunning_corrects : 0.850000\t\tTrain Loss: 0.441 | Train Acc: 83.31%  | Val. Acc: 82.84%\n",
            "running_loss : 0.422753\trunning_corrects : 0.850000\t\tTrain Loss: 0.441 | Train Acc: 83.31%  | Val. Acc: 82.84%\n",
            "running_loss : 0.422957\trunning_corrects : 0.850000\t\tTrain Loss: 0.441 | Train Acc: 83.31%  | Val. Acc: 82.89%\n",
            "running_loss : 0.423012\trunning_corrects : 0.850000\t\tTrain Loss: 0.441 | Train Acc: 83.31%  | Val. Acc: 82.89%\n",
            "running_loss : 0.422746\trunning_corrects : 0.850000\t\tTrain Loss: 0.441 | Train Acc: 83.32%  | Val. Acc: 82.89%\n",
            "running_loss : 0.422659\trunning_corrects : 0.850000\t\tTrain Loss: 0.440 | Train Acc: 83.32%  | Val. Acc: 82.89%\n",
            "running_loss : 0.422963\trunning_corrects : 0.850000\t\tTrain Loss: 0.440 | Train Acc: 83.32%  | Val. Acc: 82.89%\n",
            "running_loss : 0.422888\trunning_corrects : 0.850000\t\tTrain Loss: 0.440 | Train Acc: 83.32%  | Val. Acc: 82.89%\n",
            "running_loss : 0.423057\trunning_corrects : 0.850000\t\tTrain Loss: 0.440 | Train Acc: 83.32%  | Val. Acc: 82.89%\n",
            "running_loss : 0.422881\trunning_corrects : 0.850000\t\tTrain Loss: 0.440 | Train Acc: 83.32%  | Val. Acc: 82.89%\n",
            "running_loss : 0.423172\trunning_corrects : 0.850000\t\tTrain Loss: 0.440 | Train Acc: 83.32%  | Val. Acc: 82.89%\n",
            "running_loss : 0.423157\trunning_corrects : 0.850000\t\tTrain Loss: 0.440 | Train Acc: 83.32%  | Val. Acc: 82.89%\n",
            "running_loss : 0.423214\trunning_corrects : 0.850000\t\tTrain Loss: 0.440 | Train Acc: 83.34%  | Val. Acc: 82.89%\n",
            "running_loss : 0.423043\trunning_corrects : 0.850000\t\tTrain Loss: 0.440 | Train Acc: 83.34%  | Val. Acc: 82.89%\n",
            "running_loss : 0.423001\trunning_corrects : 0.850000\t\tTrain Loss: 0.440 | Train Acc: 83.34%  | Val. Acc: 82.89%\n",
            "running_loss : 0.423394\trunning_corrects : 0.850000\t\tTrain Loss: 0.440 | Train Acc: 83.34%  | Val. Acc: 82.89%\n",
            "running_loss : 0.423213\trunning_corrects : 0.850000\t\tTrain Loss: 0.440 | Train Acc: 83.34%  | Val. Acc: 82.89%\n",
            "running_loss : 0.423213\trunning_corrects : 0.850000\t\tTrain Loss: 0.440 | Train Acc: 83.34%  | Val. Acc: 82.89%\n",
            "running_loss : 0.423374\trunning_corrects : 0.850000\t\tTrain Loss: 0.439 | Train Acc: 83.34%  | Val. Acc: 82.89%\n",
            "running_loss : 0.423399\trunning_corrects : 0.850000\t\tTrain Loss: 0.439 | Train Acc: 83.34%  | Val. Acc: 82.89%\n",
            "running_loss : 0.423337\trunning_corrects : 0.850000\t\tTrain Loss: 0.439 | Train Acc: 83.34%  | Val. Acc: 82.89%\n",
            "running_loss : 0.423239\trunning_corrects : 0.850000\t\tTrain Loss: 0.439 | Train Acc: 83.34%  | Val. Acc: 82.89%\n",
            "running_loss : 0.423413\trunning_corrects : 0.850000\t\tTrain Loss: 0.439 | Train Acc: 83.34%  | Val. Acc: 82.89%\n",
            "running_loss : 0.423399\trunning_corrects : 0.850000\t\tTrain Loss: 0.439 | Train Acc: 83.34%  | Val. Acc: 82.89%\n",
            "running_loss : 0.423790\trunning_corrects : 0.850000\t\tTrain Loss: 0.439 | Train Acc: 83.34%  | Val. Acc: 82.89%\n",
            "running_loss : 0.423491\trunning_corrects : 0.850000\t\tTrain Loss: 0.439 | Train Acc: 83.34%  | Val. Acc: 82.89%\n",
            "running_loss : 0.423562\trunning_corrects : 0.850000\t\tTrain Loss: 0.439 | Train Acc: 83.34%  | Val. Acc: 82.89%\n",
            "running_loss : 0.423550\trunning_corrects : 0.850000\t\tTrain Loss: 0.439 | Train Acc: 83.34%  | Val. Acc: 82.89%\n",
            "running_loss : 0.423568\trunning_corrects : 0.850000\t\tTrain Loss: 0.439 | Train Acc: 83.34%  | Val. Acc: 82.89%\n",
            "running_loss : 0.423846\trunning_corrects : 0.850000\t\tTrain Loss: 0.439 | Train Acc: 83.34%  | Val. Acc: 82.89%\n",
            "running_loss : 0.423582\trunning_corrects : 0.850000\t\tTrain Loss: 0.439 | Train Acc: 83.34%  | Val. Acc: 82.89%\n",
            "running_loss : 0.423781\trunning_corrects : 0.850000\t\tTrain Loss: 0.439 | Train Acc: 83.34%  | Val. Acc: 82.89%\n",
            "running_loss : 0.423421\trunning_corrects : 0.850000\t\tTrain Loss: 0.439 | Train Acc: 83.34%  | Val. Acc: 82.89%\n",
            "running_loss : 0.423801\trunning_corrects : 0.850000\t\tTrain Loss: 0.439 | Train Acc: 83.34%  | Val. Acc: 82.89%\n",
            "running_loss : 0.423829\trunning_corrects : 0.850000\t\tTrain Loss: 0.439 | Train Acc: 83.34%  | Val. Acc: 82.89%\n",
            "running_loss : 0.423863\trunning_corrects : 0.850000\t\tTrain Loss: 0.439 | Train Acc: 83.34%  | Val. Acc: 82.89%\n",
            "running_loss : 0.423809\trunning_corrects : 0.850000\t\tTrain Loss: 0.439 | Train Acc: 83.34%  | Val. Acc: 82.89%\n",
            "running_loss : 0.423942\trunning_corrects : 0.850000\t\tTrain Loss: 0.438 | Train Acc: 83.34%  | Val. Acc: 82.89%\n",
            "running_loss : 0.424009\trunning_corrects : 0.850000\t\tTrain Loss: 0.438 | Train Acc: 83.34%  | Val. Acc: 82.89%\n",
            "running_loss : 0.424131\trunning_corrects : 0.850000\t\tTrain Loss: 0.438 | Train Acc: 83.34%  | Val. Acc: 82.89%\n",
            "running_loss : 0.424097\trunning_corrects : 0.850000\t\tTrain Loss: 0.438 | Train Acc: 83.34%  | Val. Acc: 82.89%\n",
            "running_loss : 0.424134\trunning_corrects : 0.850000\t\tTrain Loss: 0.438 | Train Acc: 83.34%  | Val. Acc: 82.89%\n",
            "running_loss : 0.424205\trunning_corrects : 0.850000\t\tTrain Loss: 0.438 | Train Acc: 83.34%  | Val. Acc: 82.89%\n",
            "running_loss : 0.424229\trunning_corrects : 0.850000\t\tTrain Loss: 0.438 | Train Acc: 83.34%  | Val. Acc: 82.89%\n",
            "running_loss : 0.424220\trunning_corrects : 0.850000\t\tTrain Loss: 0.438 | Train Acc: 83.34%  | Val. Acc: 82.89%\n",
            "running_loss : 0.424314\trunning_corrects : 0.850000\t\tTrain Loss: 0.438 | Train Acc: 83.34%  | Val. Acc: 82.89%\n",
            "running_loss : 0.424345\trunning_corrects : 0.850000\t\tTrain Loss: 0.438 | Train Acc: 83.34%  | Val. Acc: 82.89%\n",
            "running_loss : 0.424142\trunning_corrects : 0.850000\t\tTrain Loss: 0.438 | Train Acc: 83.34%  | Val. Acc: 82.89%\n",
            "running_loss : 0.424488\trunning_corrects : 0.850000\t\tTrain Loss: 0.438 | Train Acc: 83.34%  | Val. Acc: 82.89%\n",
            "running_loss : 0.424670\trunning_corrects : 0.850000\t\tTrain Loss: 0.438 | Train Acc: 83.34%  | Val. Acc: 82.89%\n",
            "running_loss : 0.424678\trunning_corrects : 0.850000\t\tTrain Loss: 0.438 | Train Acc: 83.34%  | Val. Acc: 82.89%\n",
            "running_loss : 0.424589\trunning_corrects : 0.850000\t\tTrain Loss: 0.438 | Train Acc: 83.34%  | Val. Acc: 82.89%\n",
            "running_loss : 0.424737\trunning_corrects : 0.850000\t\tTrain Loss: 0.438 | Train Acc: 83.34%  | Val. Acc: 82.89%\n",
            "running_loss : 0.424657\trunning_corrects : 0.850000\t\tTrain Loss: 0.438 | Train Acc: 83.34%  | Val. Acc: 82.89%\n",
            "running_loss : 0.424597\trunning_corrects : 0.850000\t\tTrain Loss: 0.438 | Train Acc: 83.34%  | Val. Acc: 82.89%\n",
            "running_loss : 0.424872\trunning_corrects : 0.850000\t\tTrain Loss: 0.438 | Train Acc: 83.34%  | Val. Acc: 82.89%\n",
            "running_loss : 0.424774\trunning_corrects : 0.850000\t\tTrain Loss: 0.438 | Train Acc: 83.34%  | Val. Acc: 82.89%\n",
            "running_loss : 0.424807\trunning_corrects : 0.850000\t\tTrain Loss: 0.438 | Train Acc: 83.34%  | Val. Acc: 82.89%\n",
            "running_loss : 0.424902\trunning_corrects : 0.850000\t\tTrain Loss: 0.438 | Train Acc: 83.34%  | Val. Acc: 82.89%\n",
            "running_loss : 0.424738\trunning_corrects : 0.850000\t\tTrain Loss: 0.438 | Train Acc: 83.34%  | Val. Acc: 82.89%\n",
            "running_loss : 0.425007\trunning_corrects : 0.850000\t\tTrain Loss: 0.438 | Train Acc: 83.34%  | Val. Acc: 82.89%\n",
            "running_loss : 0.425124\trunning_corrects : 0.850000\t\tTrain Loss: 0.438 | Train Acc: 83.34%  | Val. Acc: 82.89%\n",
            "running_loss : 0.424966\trunning_corrects : 0.850000\t\tTrain Loss: 0.438 | Train Acc: 83.34%  | Val. Acc: 82.89%\n",
            "running_loss : 0.425000\trunning_corrects : 0.850000\t\tTrain Loss: 0.438 | Train Acc: 83.34%  | Val. Acc: 82.89%\n",
            "running_loss : 0.425101\trunning_corrects : 0.850000\t\tTrain Loss: 0.438 | Train Acc: 83.34%  | Val. Acc: 82.89%\n",
            "running_loss : 0.424998\trunning_corrects : 0.850000\t\tTrain Loss: 0.438 | Train Acc: 83.34%  | Val. Acc: 82.89%\n",
            "running_loss : 0.425058\trunning_corrects : 0.850000\t\tTrain Loss: 0.438 | Train Acc: 83.35%  | Val. Acc: 82.99%\n",
            "running_loss : 0.425208\trunning_corrects : 0.850000\t\tTrain Loss: 0.438 | Train Acc: 83.35%  | Val. Acc: 82.99%\n",
            "running_loss : 0.425202\trunning_corrects : 0.850000\t\tTrain Loss: 0.438 | Train Acc: 83.35%  | Val. Acc: 82.99%\n",
            "running_loss : 0.425160\trunning_corrects : 0.850000\t\tTrain Loss: 0.437 | Train Acc: 83.36%  | Val. Acc: 82.99%\n",
            "running_loss : 0.425421\trunning_corrects : 0.850000\t\tTrain Loss: 0.437 | Train Acc: 83.36%  | Val. Acc: 82.99%\n",
            "running_loss : 0.425483\trunning_corrects : 0.850000\t\tTrain Loss: 0.437 | Train Acc: 83.36%  | Val. Acc: 82.99%\n",
            "running_loss : 0.425483\trunning_corrects : 0.850000\t\tTrain Loss: 0.437 | Train Acc: 83.36%  | Val. Acc: 82.99%\n",
            "running_loss : 0.425676\trunning_corrects : 0.850000\t\tTrain Loss: 0.437 | Train Acc: 83.36%  | Val. Acc: 82.99%\n",
            "running_loss : 0.425616\trunning_corrects : 0.850000\t\tTrain Loss: 0.437 | Train Acc: 83.36%  | Val. Acc: 82.99%\n",
            "running_loss : 0.425940\trunning_corrects : 0.850000\t\tTrain Loss: 0.437 | Train Acc: 83.36%  | Val. Acc: 82.99%\n",
            "running_loss : 0.426009\trunning_corrects : 0.850000\t\tTrain Loss: 0.437 | Train Acc: 83.36%  | Val. Acc: 82.99%\n",
            "running_loss : 0.426080\trunning_corrects : 0.850000\t\tTrain Loss: 0.437 | Train Acc: 83.36%  | Val. Acc: 82.99%\n",
            "running_loss : 0.425924\trunning_corrects : 0.850000\t\tTrain Loss: 0.437 | Train Acc: 83.36%  | Val. Acc: 82.99%\n",
            "running_loss : 0.426182\trunning_corrects : 0.850000\t\tTrain Loss: 0.437 | Train Acc: 83.36%  | Val. Acc: 82.99%\n",
            "running_loss : 0.426056\trunning_corrects : 0.850000\t\tTrain Loss: 0.437 | Train Acc: 83.36%  | Val. Acc: 82.99%\n",
            "running_loss : 0.426187\trunning_corrects : 0.850000\t\tTrain Loss: 0.437 | Train Acc: 83.36%  | Val. Acc: 82.99%\n",
            "running_loss : 0.426456\trunning_corrects : 0.850000\t\tTrain Loss: 0.437 | Train Acc: 83.36%  | Val. Acc: 82.99%\n",
            "running_loss : 0.426440\trunning_corrects : 0.850000\t\tTrain Loss: 0.437 | Train Acc: 83.36%  | Val. Acc: 82.99%\n",
            "running_loss : 0.426503\trunning_corrects : 0.850000\t\tTrain Loss: 0.437 | Train Acc: 83.36%  | Val. Acc: 82.99%\n",
            "running_loss : 0.426324\trunning_corrects : 0.850000\t\tTrain Loss: 0.437 | Train Acc: 83.36%  | Val. Acc: 82.99%\n",
            "running_loss : 0.426410\trunning_corrects : 0.850000\t\tTrain Loss: 0.437 | Train Acc: 83.36%  | Val. Acc: 82.99%\n",
            "running_loss : 0.426384\trunning_corrects : 0.850000\t\tTrain Loss: 0.437 | Train Acc: 83.36%  | Val. Acc: 82.99%\n",
            "running_loss : 0.426399\trunning_corrects : 0.850000\t\tTrain Loss: 0.437 | Train Acc: 83.36%  | Val. Acc: 82.99%\n",
            "running_loss : 0.426597\trunning_corrects : 0.850000\t\tTrain Loss: 0.437 | Train Acc: 83.36%  | Val. Acc: 82.99%\n",
            "running_loss : 0.426650\trunning_corrects : 0.850000\t\tTrain Loss: 0.437 | Train Acc: 83.36%  | Val. Acc: 82.99%\n",
            "running_loss : 0.426649\trunning_corrects : 0.850000\t\tTrain Loss: 0.437 | Train Acc: 83.36%  | Val. Acc: 82.99%\n",
            "running_loss : 0.426751\trunning_corrects : 0.850000\t\tTrain Loss: 0.437 | Train Acc: 83.36%  | Val. Acc: 82.99%\n",
            "running_loss : 0.426690\trunning_corrects : 0.850000\t\tTrain Loss: 0.437 | Train Acc: 83.36%  | Val. Acc: 82.99%\n",
            "running_loss : 0.426780\trunning_corrects : 0.850000\t\tTrain Loss: 0.437 | Train Acc: 83.37%  | Val. Acc: 82.99%\n",
            "running_loss : 0.426625\trunning_corrects : 0.850000\t\tTrain Loss: 0.437 | Train Acc: 83.37%  | Val. Acc: 82.99%\n",
            "running_loss : 0.426732\trunning_corrects : 0.850000\t\tTrain Loss: 0.437 | Train Acc: 83.37%  | Val. Acc: 82.99%\n",
            "running_loss : 0.426809\trunning_corrects : 0.850000\t\tTrain Loss: 0.437 | Train Acc: 83.37%  | Val. Acc: 82.99%\n",
            "running_loss : 0.426570\trunning_corrects : 0.850000\t\tTrain Loss: 0.437 | Train Acc: 83.37%  | Val. Acc: 82.99%\n",
            "running_loss : 0.426953\trunning_corrects : 0.850000\t\tTrain Loss: 0.437 | Train Acc: 83.37%  | Val. Acc: 82.99%\n",
            "running_loss : 0.427080\trunning_corrects : 0.850000\t\tTrain Loss: 0.437 | Train Acc: 83.37%  | Val. Acc: 82.99%\n",
            "running_loss : 0.427011\trunning_corrects : 0.850000\t\tTrain Loss: 0.437 | Train Acc: 83.37%  | Val. Acc: 82.99%\n",
            "running_loss : 0.427202\trunning_corrects : 0.850000\t\tTrain Loss: 0.436 | Train Acc: 83.37%  | Val. Acc: 82.99%\n",
            "running_loss : 0.427107\trunning_corrects : 0.850000\t\tTrain Loss: 0.436 | Train Acc: 83.37%  | Val. Acc: 82.99%\n",
            "running_loss : 0.427069\trunning_corrects : 0.850000\t\tTrain Loss: 0.436 | Train Acc: 83.37%  | Val. Acc: 82.99%\n",
            "running_loss : 0.427025\trunning_corrects : 0.850000\t\tTrain Loss: 0.436 | Train Acc: 83.37%  | Val. Acc: 82.99%\n",
            "running_loss : 0.427075\trunning_corrects : 0.850000\t\tTrain Loss: 0.436 | Train Acc: 83.37%  | Val. Acc: 82.99%\n",
            "running_loss : 0.427106\trunning_corrects : 0.850000\t\tTrain Loss: 0.436 | Train Acc: 83.37%  | Val. Acc: 82.99%\n",
            "running_loss : 0.427135\trunning_corrects : 0.850000\t\tTrain Loss: 0.436 | Train Acc: 83.37%  | Val. Acc: 82.99%\n",
            "running_loss : 0.427071\trunning_corrects : 0.850000\t\tTrain Loss: 0.436 | Train Acc: 83.37%  | Val. Acc: 82.99%\n",
            "running_loss : 0.427218\trunning_corrects : 0.850000\t\tTrain Loss: 0.436 | Train Acc: 83.37%  | Val. Acc: 82.99%\n",
            "running_loss : 0.427000\trunning_corrects : 0.850000\t\tTrain Loss: 0.436 | Train Acc: 83.37%  | Val. Acc: 82.99%\n",
            "running_loss : 0.427143\trunning_corrects : 0.850000\t\tTrain Loss: 0.436 | Train Acc: 83.37%  | Val. Acc: 82.99%\n",
            "running_loss : 0.427239\trunning_corrects : 0.850000\t\tTrain Loss: 0.436 | Train Acc: 83.37%  | Val. Acc: 82.99%\n",
            "running_loss : 0.427274\trunning_corrects : 0.850000\t\tTrain Loss: 0.436 | Train Acc: 83.37%  | Val. Acc: 82.99%\n",
            "running_loss : 0.427343\trunning_corrects : 0.850000\t\tTrain Loss: 0.436 | Train Acc: 83.37%  | Val. Acc: 82.99%\n",
            "running_loss : 0.427212\trunning_corrects : 0.850000\t\tTrain Loss: 0.436 | Train Acc: 83.37%  | Val. Acc: 82.99%\n",
            "running_loss : 0.426737\trunning_corrects : 0.850000\t\tTrain Loss: 0.436 | Train Acc: 83.37%  | Val. Acc: 82.99%\n",
            "running_loss : 0.425580\trunning_corrects : 0.850000\t\tTrain Loss: 0.436 | Train Acc: 83.37%  | Val. Acc: 82.99%\n",
            "running_loss : 0.424877\trunning_corrects : 0.850000\t\tTrain Loss: 0.436 | Train Acc: 83.37%  | Val. Acc: 82.99%\n",
            "running_loss : 0.424680\trunning_corrects : 0.850000\t\tTrain Loss: 0.436 | Train Acc: 83.37%  | Val. Acc: 82.99%\n",
            "running_loss : 0.424642\trunning_corrects : 0.850000\t\tTrain Loss: 0.435 | Train Acc: 83.37%  | Val. Acc: 82.99%\n",
            "running_loss : 0.424831\trunning_corrects : 0.850000\t\tTrain Loss: 0.435 | Train Acc: 83.37%  | Val. Acc: 82.99%\n",
            "running_loss : 0.425042\trunning_corrects : 0.850000\t\tTrain Loss: 0.435 | Train Acc: 83.37%  | Val. Acc: 82.99%\n",
            "running_loss : 0.424933\trunning_corrects : 0.850000\t\tTrain Loss: 0.435 | Train Acc: 83.37%  | Val. Acc: 82.99%\n",
            "running_loss : 0.425028\trunning_corrects : 0.850000\t\tTrain Loss: 0.435 | Train Acc: 83.37%  | Val. Acc: 82.99%\n",
            "running_loss : 0.424877\trunning_corrects : 0.850000\t\tTrain Loss: 0.435 | Train Acc: 83.37%  | Val. Acc: 82.99%\n",
            "running_loss : 0.425119\trunning_corrects : 0.850000\t\tTrain Loss: 0.435 | Train Acc: 83.38%  | Val. Acc: 82.99%\n",
            "running_loss : 0.425205\trunning_corrects : 0.850000\t\tTrain Loss: 0.435 | Train Acc: 83.46%  | Val. Acc: 83.13%\n",
            "running_loss : 0.424913\trunning_corrects : 0.850000\t\tTrain Loss: 0.435 | Train Acc: 83.54%  | Val. Acc: 83.13%\n",
            "running_loss : 0.425065\trunning_corrects : 0.850000\t\tTrain Loss: 0.434 | Train Acc: 83.55%  | Val. Acc: 83.13%\n",
            "running_loss : 0.424861\trunning_corrects : 0.850000\t\tTrain Loss: 0.434 | Train Acc: 83.55%  | Val. Acc: 83.13%\n",
            "running_loss : 0.424949\trunning_corrects : 0.850000\t\tTrain Loss: 0.434 | Train Acc: 83.55%  | Val. Acc: 83.13%\n",
            "running_loss : 0.424653\trunning_corrects : 0.850000\t\tTrain Loss: 0.434 | Train Acc: 83.55%  | Val. Acc: 83.13%\n",
            "running_loss : 0.424942\trunning_corrects : 0.850000\t\tTrain Loss: 0.434 | Train Acc: 83.55%  | Val. Acc: 83.13%\n",
            "running_loss : 0.424924\trunning_corrects : 0.850000\t\tTrain Loss: 0.434 | Train Acc: 83.55%  | Val. Acc: 83.13%\n",
            "running_loss : 0.424677\trunning_corrects : 0.850000\t\tTrain Loss: 0.434 | Train Acc: 83.55%  | Val. Acc: 83.13%\n",
            "running_loss : 0.424918\trunning_corrects : 0.850000\t\tTrain Loss: 0.434 | Train Acc: 83.55%  | Val. Acc: 83.13%\n",
            "running_loss : 0.424847\trunning_corrects : 0.850000\t\tTrain Loss: 0.434 | Train Acc: 83.55%  | Val. Acc: 83.13%\n",
            "running_loss : 0.424606\trunning_corrects : 0.850000\t\tTrain Loss: 0.434 | Train Acc: 83.55%  | Val. Acc: 83.13%\n",
            "running_loss : 0.424796\trunning_corrects : 0.850000\t\tTrain Loss: 0.434 | Train Acc: 83.55%  | Val. Acc: 83.13%\n",
            "running_loss : 0.424667\trunning_corrects : 0.850000\t\tTrain Loss: 0.434 | Train Acc: 83.55%  | Val. Acc: 83.13%\n",
            "running_loss : 0.424724\trunning_corrects : 0.850000\t\tTrain Loss: 0.434 | Train Acc: 83.55%  | Val. Acc: 83.13%\n",
            "running_loss : 0.424729\trunning_corrects : 0.850000\t\tTrain Loss: 0.434 | Train Acc: 83.55%  | Val. Acc: 83.13%\n",
            "running_loss : 0.424582\trunning_corrects : 0.850000\t\tTrain Loss: 0.434 | Train Acc: 83.55%  | Val. Acc: 83.13%\n",
            "running_loss : 0.424888\trunning_corrects : 0.850000\t\tTrain Loss: 0.434 | Train Acc: 83.55%  | Val. Acc: 83.13%\n",
            "running_loss : 0.424954\trunning_corrects : 0.850000\t\tTrain Loss: 0.433 | Train Acc: 83.55%  | Val. Acc: 83.13%\n",
            "running_loss : 0.424746\trunning_corrects : 0.850000\t\tTrain Loss: 0.433 | Train Acc: 83.55%  | Val. Acc: 83.13%\n",
            "running_loss : 0.424825\trunning_corrects : 0.850000\t\tTrain Loss: 0.433 | Train Acc: 83.55%  | Val. Acc: 83.13%\n",
            "running_loss : 0.424944\trunning_corrects : 0.850000\t\tTrain Loss: 0.433 | Train Acc: 83.55%  | Val. Acc: 83.13%\n",
            "running_loss : 0.425092\trunning_corrects : 0.850000\t\tTrain Loss: 0.433 | Train Acc: 83.55%  | Val. Acc: 83.13%\n",
            "running_loss : 0.424832\trunning_corrects : 0.850000\t\tTrain Loss: 0.433 | Train Acc: 83.55%  | Val. Acc: 83.13%\n",
            "running_loss : 0.424752\trunning_corrects : 0.850000\t\tTrain Loss: 0.433 | Train Acc: 83.55%  | Val. Acc: 83.13%\n",
            "running_loss : 0.424770\trunning_corrects : 0.850000\t\tTrain Loss: 0.433 | Train Acc: 83.55%  | Val. Acc: 83.13%\n",
            "running_loss : 0.424688\trunning_corrects : 0.850000\t\tTrain Loss: 0.433 | Train Acc: 83.55%  | Val. Acc: 83.13%\n",
            "running_loss : 0.424535\trunning_corrects : 0.850000\t\tTrain Loss: 0.433 | Train Acc: 83.55%  | Val. Acc: 83.13%\n",
            "running_loss : 0.424615\trunning_corrects : 0.850000\t\tTrain Loss: 0.433 | Train Acc: 83.55%  | Val. Acc: 83.13%\n",
            "running_loss : 0.424365\trunning_corrects : 0.850000\t\tTrain Loss: 0.433 | Train Acc: 83.55%  | Val. Acc: 83.13%\n",
            "running_loss : 0.424462\trunning_corrects : 0.850000\t\tTrain Loss: 0.433 | Train Acc: 83.55%  | Val. Acc: 83.13%\n",
            "running_loss : 0.424310\trunning_corrects : 0.850000\t\tTrain Loss: 0.433 | Train Acc: 83.55%  | Val. Acc: 83.13%\n",
            "running_loss : 0.424572\trunning_corrects : 0.850000\t\tTrain Loss: 0.433 | Train Acc: 83.55%  | Val. Acc: 83.13%\n",
            "running_loss : 0.424209\trunning_corrects : 0.850000\t\tTrain Loss: 0.433 | Train Acc: 83.55%  | Val. Acc: 83.13%\n",
            "running_loss : 0.424472\trunning_corrects : 0.850000\t\tTrain Loss: 0.433 | Train Acc: 83.55%  | Val. Acc: 83.13%\n",
            "running_loss : 0.424914\trunning_corrects : 0.850000\t\tTrain Loss: 0.433 | Train Acc: 83.55%  | Val. Acc: 83.13%\n",
            "running_loss : 0.424585\trunning_corrects : 0.850000\t\tTrain Loss: 0.433 | Train Acc: 83.55%  | Val. Acc: 83.13%\n",
            "running_loss : 0.424540\trunning_corrects : 0.850000\t\tTrain Loss: 0.433 | Train Acc: 83.55%  | Val. Acc: 83.13%\n",
            "running_loss : 0.424433\trunning_corrects : 0.850000\t\tTrain Loss: 0.433 | Train Acc: 83.55%  | Val. Acc: 83.13%\n",
            "running_loss : 0.424419\trunning_corrects : 0.850000\t\tTrain Loss: 0.433 | Train Acc: 83.55%  | Val. Acc: 83.13%\n",
            "running_loss : 0.424280\trunning_corrects : 0.850000\t\tTrain Loss: 0.433 | Train Acc: 83.55%  | Val. Acc: 83.13%\n",
            "running_loss : 0.424147\trunning_corrects : 0.850000\t\tTrain Loss: 0.433 | Train Acc: 83.55%  | Val. Acc: 83.13%\n",
            "running_loss : 0.423951\trunning_corrects : 0.850000\t\tTrain Loss: 0.433 | Train Acc: 83.55%  | Val. Acc: 83.13%\n",
            "running_loss : 0.424014\trunning_corrects : 0.850000\t\tTrain Loss: 0.433 | Train Acc: 83.55%  | Val. Acc: 83.13%\n",
            "running_loss : 0.423725\trunning_corrects : 0.850000\t\tTrain Loss: 0.432 | Train Acc: 83.55%  | Val. Acc: 83.13%\n",
            "running_loss : 0.424075\trunning_corrects : 0.850000\t\tTrain Loss: 0.433 | Train Acc: 83.55%  | Val. Acc: 83.13%\n",
            "running_loss : 0.423894\trunning_corrects : 0.850000\t\tTrain Loss: 0.432 | Train Acc: 83.55%  | Val. Acc: 83.13%\n",
            "running_loss : 0.423870\trunning_corrects : 0.850000\t\tTrain Loss: 0.432 | Train Acc: 83.55%  | Val. Acc: 83.13%\n",
            "running_loss : 0.423778\trunning_corrects : 0.850000\t\tTrain Loss: 0.432 | Train Acc: 83.55%  | Val. Acc: 83.13%\n",
            "running_loss : 0.423796\trunning_corrects : 0.850000\t\tTrain Loss: 0.432 | Train Acc: 83.55%  | Val. Acc: 83.13%\n",
            "running_loss : 0.423812\trunning_corrects : 0.850000\t\tTrain Loss: 0.432 | Train Acc: 83.55%  | Val. Acc: 83.13%\n",
            "running_loss : 0.423772\trunning_corrects : 0.850000\t\tTrain Loss: 0.432 | Train Acc: 83.55%  | Val. Acc: 83.13%\n",
            "running_loss : 0.423789\trunning_corrects : 0.850000\t\tTrain Loss: 0.432 | Train Acc: 83.55%  | Val. Acc: 83.13%\n",
            "running_loss : 0.423743\trunning_corrects : 0.850000\t\tTrain Loss: 0.432 | Train Acc: 83.55%  | Val. Acc: 83.13%\n",
            "running_loss : 0.422980\trunning_corrects : 0.850000\t\tTrain Loss: 0.432 | Train Acc: 83.55%  | Val. Acc: 83.13%\n",
            "running_loss : 0.423948\trunning_corrects : 0.850000\t\tTrain Loss: 0.432 | Train Acc: 83.55%  | Val. Acc: 83.13%\n",
            "running_loss : 0.423204\trunning_corrects : 0.850000\t\tTrain Loss: 0.432 | Train Acc: 83.55%  | Val. Acc: 83.13%\n",
            "running_loss : 0.423261\trunning_corrects : 0.850000\t\tTrain Loss: 0.432 | Train Acc: 83.55%  | Val. Acc: 83.13%\n",
            "running_loss : 0.423847\trunning_corrects : 0.850000\t\tTrain Loss: 0.432 | Train Acc: 83.55%  | Val. Acc: 83.13%\n",
            "running_loss : 0.424422\trunning_corrects : 0.850000\t\tTrain Loss: 0.432 | Train Acc: 83.55%  | Val. Acc: 83.13%\n",
            "running_loss : 0.424526\trunning_corrects : 0.850000\t\tTrain Loss: 0.432 | Train Acc: 83.55%  | Val. Acc: 83.13%\n",
            "running_loss : 0.424957\trunning_corrects : 0.850000\t\tTrain Loss: 0.432 | Train Acc: 83.55%  | Val. Acc: 83.13%\n",
            "running_loss : 0.425428\trunning_corrects : 0.850000\t\tTrain Loss: 0.432 | Train Acc: 83.57%  | Val. Acc: 83.23%\n",
            "running_loss : 0.425656\trunning_corrects : 0.850000\t\tTrain Loss: 0.432 | Train Acc: 83.61%  | Val. Acc: 83.23%\n",
            "running_loss : 0.426119\trunning_corrects : 0.850000\t\tTrain Loss: 0.431 | Train Acc: 83.65%  | Val. Acc: 83.23%\n",
            "running_loss : 0.426303\trunning_corrects : 0.850000\t\tTrain Loss: 0.431 | Train Acc: 83.65%  | Val. Acc: 83.23%\n",
            "running_loss : 0.426670\trunning_corrects : 0.850000\t\tTrain Loss: 0.431 | Train Acc: 83.65%  | Val. Acc: 83.23%\n",
            "running_loss : 0.426591\trunning_corrects : 0.850000\t\tTrain Loss: 0.431 | Train Acc: 83.65%  | Val. Acc: 83.23%\n",
            "running_loss : 0.426960\trunning_corrects : 0.850000\t\tTrain Loss: 0.431 | Train Acc: 83.65%  | Val. Acc: 83.23%\n",
            "running_loss : 0.426595\trunning_corrects : 0.850000\t\tTrain Loss: 0.431 | Train Acc: 83.65%  | Val. Acc: 83.23%\n",
            "running_loss : 0.427018\trunning_corrects : 0.850000\t\tTrain Loss: 0.431 | Train Acc: 83.65%  | Val. Acc: 83.23%\n",
            "running_loss : 0.426850\trunning_corrects : 0.850000\t\tTrain Loss: 0.431 | Train Acc: 83.65%  | Val. Acc: 83.23%\n",
            "running_loss : 0.426777\trunning_corrects : 0.850000\t\tTrain Loss: 0.431 | Train Acc: 83.65%  | Val. Acc: 83.23%\n",
            "running_loss : 0.426540\trunning_corrects : 0.850000\t\tTrain Loss: 0.431 | Train Acc: 83.65%  | Val. Acc: 83.23%\n",
            "running_loss : 0.426373\trunning_corrects : 0.850000\t\tTrain Loss: 0.431 | Train Acc: 83.65%  | Val. Acc: 83.23%\n",
            "running_loss : 0.426911\trunning_corrects : 0.850000\t\tTrain Loss: 0.431 | Train Acc: 83.65%  | Val. Acc: 83.23%\n",
            "running_loss : 0.426715\trunning_corrects : 0.850000\t\tTrain Loss: 0.431 | Train Acc: 83.65%  | Val. Acc: 83.23%\n",
            "running_loss : 0.426268\trunning_corrects : 0.850000\t\tTrain Loss: 0.431 | Train Acc: 83.65%  | Val. Acc: 83.23%\n",
            "running_loss : 0.426306\trunning_corrects : 0.850000\t\tTrain Loss: 0.431 | Train Acc: 83.65%  | Val. Acc: 83.23%\n",
            "running_loss : 0.426001\trunning_corrects : 0.850000\t\tTrain Loss: 0.431 | Train Acc: 83.65%  | Val. Acc: 83.23%\n",
            "running_loss : 0.425635\trunning_corrects : 0.850000\t\tTrain Loss: 0.431 | Train Acc: 83.65%  | Val. Acc: 83.23%\n",
            "running_loss : 0.425622\trunning_corrects : 0.850000\t\tTrain Loss: 0.431 | Train Acc: 83.65%  | Val. Acc: 83.23%\n",
            "running_loss : 0.425443\trunning_corrects : 0.850000\t\tTrain Loss: 0.431 | Train Acc: 83.65%  | Val. Acc: 83.23%\n",
            "running_loss : 0.425283\trunning_corrects : 0.850000\t\tTrain Loss: 0.431 | Train Acc: 83.65%  | Val. Acc: 83.23%\n",
            "running_loss : 0.425343\trunning_corrects : 0.850000\t\tTrain Loss: 0.431 | Train Acc: 83.65%  | Val. Acc: 83.23%\n",
            "running_loss : 0.425455\trunning_corrects : 0.850000\t\tTrain Loss: 0.431 | Train Acc: 83.65%  | Val. Acc: 83.23%\n",
            "running_loss : 0.425242\trunning_corrects : 0.850000\t\tTrain Loss: 0.431 | Train Acc: 83.65%  | Val. Acc: 83.23%\n",
            "running_loss : 0.425131\trunning_corrects : 0.850000\t\tTrain Loss: 0.431 | Train Acc: 83.65%  | Val. Acc: 83.23%\n",
            "running_loss : 0.425182\trunning_corrects : 0.850000\t\tTrain Loss: 0.431 | Train Acc: 83.65%  | Val. Acc: 83.23%\n",
            "running_loss : 0.425152\trunning_corrects : 0.850000\t\tTrain Loss: 0.431 | Train Acc: 83.65%  | Val. Acc: 83.23%\n",
            "running_loss : 0.424953\trunning_corrects : 0.850000\t\tTrain Loss: 0.431 | Train Acc: 83.65%  | Val. Acc: 83.23%\n",
            "running_loss : 0.425211\trunning_corrects : 0.850000\t\tTrain Loss: 0.431 | Train Acc: 83.65%  | Val. Acc: 83.23%\n",
            "running_loss : 0.425113\trunning_corrects : 0.850000\t\tTrain Loss: 0.431 | Train Acc: 83.65%  | Val. Acc: 83.23%\n",
            "running_loss : 0.424957\trunning_corrects : 0.850000\t\tTrain Loss: 0.431 | Train Acc: 83.65%  | Val. Acc: 83.23%\n",
            "running_loss : 0.425106\trunning_corrects : 0.850000\t\tTrain Loss: 0.431 | Train Acc: 83.65%  | Val. Acc: 83.23%\n",
            "running_loss : 0.425175\trunning_corrects : 0.850000\t\tTrain Loss: 0.431 | Train Acc: 83.65%  | Val. Acc: 83.23%\n",
            "running_loss : 0.424824\trunning_corrects : 0.850000\t\tTrain Loss: 0.430 | Train Acc: 83.65%  | Val. Acc: 83.23%\n",
            "running_loss : 0.425284\trunning_corrects : 0.850000\t\tTrain Loss: 0.430 | Train Acc: 83.65%  | Val. Acc: 83.23%\n",
            "running_loss : 0.425078\trunning_corrects : 0.850000\t\tTrain Loss: 0.430 | Train Acc: 83.66%  | Val. Acc: 83.23%\n",
            "running_loss : 0.425081\trunning_corrects : 0.850000\t\tTrain Loss: 0.430 | Train Acc: 83.66%  | Val. Acc: 83.23%\n",
            "running_loss : 0.425025\trunning_corrects : 0.850000\t\tTrain Loss: 0.430 | Train Acc: 83.66%  | Val. Acc: 83.23%\n",
            "running_loss : 0.424910\trunning_corrects : 0.850000\t\tTrain Loss: 0.430 | Train Acc: 83.66%  | Val. Acc: 83.23%\n",
            "running_loss : 0.425093\trunning_corrects : 0.850000\t\tTrain Loss: 0.430 | Train Acc: 83.66%  | Val. Acc: 83.23%\n",
            "running_loss : 0.425228\trunning_corrects : 0.850000\t\tTrain Loss: 0.430 | Train Acc: 83.67%  | Val. Acc: 83.23%\n",
            "running_loss : 0.425002\trunning_corrects : 0.850000\t\tTrain Loss: 0.430 | Train Acc: 83.67%  | Val. Acc: 83.23%\n",
            "running_loss : 0.425213\trunning_corrects : 0.850000\t\tTrain Loss: 0.430 | Train Acc: 83.67%  | Val. Acc: 83.23%\n",
            "running_loss : 0.425154\trunning_corrects : 0.850000\t\tTrain Loss: 0.430 | Train Acc: 83.67%  | Val. Acc: 83.23%\n",
            "running_loss : 0.425207\trunning_corrects : 0.850000\t\tTrain Loss: 0.430 | Train Acc: 83.67%  | Val. Acc: 83.23%\n",
            "running_loss : 0.425210\trunning_corrects : 0.850000\t\tTrain Loss: 0.430 | Train Acc: 83.67%  | Val. Acc: 83.23%\n",
            "running_loss : 0.425007\trunning_corrects : 0.850000\t\tTrain Loss: 0.430 | Train Acc: 83.67%  | Val. Acc: 83.23%\n",
            "running_loss : 0.425138\trunning_corrects : 0.850000\t\tTrain Loss: 0.430 | Train Acc: 83.67%  | Val. Acc: 83.23%\n",
            "running_loss : 0.425153\trunning_corrects : 0.850000\t\tTrain Loss: 0.430 | Train Acc: 83.67%  | Val. Acc: 83.23%\n",
            "running_loss : 0.424987\trunning_corrects : 0.850000\t\tTrain Loss: 0.430 | Train Acc: 83.67%  | Val. Acc: 83.23%\n",
            "running_loss : 0.425143\trunning_corrects : 0.850000\t\tTrain Loss: 0.430 | Train Acc: 83.67%  | Val. Acc: 83.23%\n",
            "running_loss : 0.425035\trunning_corrects : 0.850000\t\tTrain Loss: 0.430 | Train Acc: 83.67%  | Val. Acc: 83.23%\n",
            "running_loss : 0.425130\trunning_corrects : 0.850000\t\tTrain Loss: 0.430 | Train Acc: 83.67%  | Val. Acc: 83.23%\n",
            "running_loss : 0.425037\trunning_corrects : 0.850000\t\tTrain Loss: 0.430 | Train Acc: 83.67%  | Val. Acc: 83.23%\n",
            "running_loss : 0.425058\trunning_corrects : 0.850000\t\tTrain Loss: 0.430 | Train Acc: 83.67%  | Val. Acc: 83.23%\n",
            "running_loss : 0.425220\trunning_corrects : 0.850000\t\tTrain Loss: 0.430 | Train Acc: 83.67%  | Val. Acc: 83.23%\n",
            "running_loss : 0.425127\trunning_corrects : 0.850000\t\tTrain Loss: 0.430 | Train Acc: 83.67%  | Val. Acc: 83.23%\n",
            "running_loss : 0.425090\trunning_corrects : 0.850000\t\tTrain Loss: 0.430 | Train Acc: 83.67%  | Val. Acc: 83.23%\n",
            "running_loss : 0.425138\trunning_corrects : 0.850000\t\tTrain Loss: 0.430 | Train Acc: 83.67%  | Val. Acc: 83.23%\n",
            "running_loss : 0.425389\trunning_corrects : 0.850000\t\tTrain Loss: 0.430 | Train Acc: 83.67%  | Val. Acc: 83.23%\n",
            "running_loss : 0.425100\trunning_corrects : 0.850000\t\tTrain Loss: 0.430 | Train Acc: 83.67%  | Val. Acc: 83.23%\n",
            "running_loss : 0.425346\trunning_corrects : 0.850000\t\tTrain Loss: 0.430 | Train Acc: 83.67%  | Val. Acc: 83.23%\n",
            "running_loss : 0.425193\trunning_corrects : 0.850000\t\tTrain Loss: 0.430 | Train Acc: 83.67%  | Val. Acc: 83.23%\n",
            "running_loss : 0.425443\trunning_corrects : 0.850000\t\tTrain Loss: 0.430 | Train Acc: 83.67%  | Val. Acc: 83.23%\n",
            "running_loss : 0.425142\trunning_corrects : 0.850000\t\tTrain Loss: 0.430 | Train Acc: 83.67%  | Val. Acc: 83.23%\n",
            "running_loss : 0.425179\trunning_corrects : 0.850000\t\tTrain Loss: 0.430 | Train Acc: 83.67%  | Val. Acc: 83.23%\n",
            "running_loss : 0.425198\trunning_corrects : 0.850000\t\tTrain Loss: 0.430 | Train Acc: 83.67%  | Val. Acc: 83.23%\n",
            "running_loss : 0.425250\trunning_corrects : 0.850000\t\tTrain Loss: 0.430 | Train Acc: 83.67%  | Val. Acc: 83.23%\n",
            "running_loss : 0.425365\trunning_corrects : 0.850000\t\tTrain Loss: 0.430 | Train Acc: 83.67%  | Val. Acc: 83.23%\n",
            "running_loss : 0.425359\trunning_corrects : 0.850000\t\tTrain Loss: 0.430 | Train Acc: 83.67%  | Val. Acc: 83.23%\n",
            "running_loss : 0.425324\trunning_corrects : 0.850000\t\tTrain Loss: 0.430 | Train Acc: 83.67%  | Val. Acc: 83.23%\n",
            "running_loss : 0.425255\trunning_corrects : 0.850000\t\tTrain Loss: 0.430 | Train Acc: 83.67%  | Val. Acc: 83.23%\n",
            "running_loss : 0.425315\trunning_corrects : 0.850000\t\tTrain Loss: 0.430 | Train Acc: 83.67%  | Val. Acc: 83.23%\n",
            "running_loss : 0.425398\trunning_corrects : 0.850000\t\tTrain Loss: 0.430 | Train Acc: 83.67%  | Val. Acc: 83.23%\n",
            "running_loss : 0.425430\trunning_corrects : 0.850000\t\tTrain Loss: 0.430 | Train Acc: 83.67%  | Val. Acc: 83.23%\n",
            "running_loss : 0.425304\trunning_corrects : 0.850000\t\tTrain Loss: 0.430 | Train Acc: 83.67%  | Val. Acc: 83.23%\n",
            "running_loss : 0.425056\trunning_corrects : 0.850000\t\tTrain Loss: 0.430 | Train Acc: 83.67%  | Val. Acc: 83.23%\n",
            "running_loss : 0.425068\trunning_corrects : 0.850000\t\tTrain Loss: 0.430 | Train Acc: 83.67%  | Val. Acc: 83.23%\n",
            "running_loss : 0.425393\trunning_corrects : 0.850000\t\tTrain Loss: 0.430 | Train Acc: 83.67%  | Val. Acc: 83.23%\n",
            "running_loss : 0.425413\trunning_corrects : 0.850000\t\tTrain Loss: 0.430 | Train Acc: 83.67%  | Val. Acc: 83.23%\n",
            "running_loss : 0.425382\trunning_corrects : 0.850000\t\tTrain Loss: 0.430 | Train Acc: 83.67%  | Val. Acc: 83.23%\n",
            "running_loss : 0.425263\trunning_corrects : 0.850000\t\tTrain Loss: 0.430 | Train Acc: 83.67%  | Val. Acc: 83.23%\n",
            "running_loss : 0.425562\trunning_corrects : 0.850000\t\tTrain Loss: 0.430 | Train Acc: 83.67%  | Val. Acc: 83.23%\n",
            "running_loss : 0.425423\trunning_corrects : 0.850000\t\tTrain Loss: 0.430 | Train Acc: 83.67%  | Val. Acc: 83.23%\n",
            "running_loss : 0.425325\trunning_corrects : 0.850000\t\tTrain Loss: 0.430 | Train Acc: 83.67%  | Val. Acc: 83.23%\n",
            "running_loss : 0.425670\trunning_corrects : 0.850000\t\tTrain Loss: 0.430 | Train Acc: 83.67%  | Val. Acc: 83.23%\n",
            "running_loss : 0.425524\trunning_corrects : 0.850000\t\tTrain Loss: 0.430 | Train Acc: 83.67%  | Val. Acc: 83.23%\n",
            "running_loss : 0.425472\trunning_corrects : 0.850000\t\tTrain Loss: 0.430 | Train Acc: 83.67%  | Val. Acc: 83.23%\n",
            "running_loss : 0.425392\trunning_corrects : 0.850000\t\tTrain Loss: 0.430 | Train Acc: 83.67%  | Val. Acc: 83.23%\n",
            "running_loss : 0.425314\trunning_corrects : 0.850000\t\tTrain Loss: 0.430 | Train Acc: 83.67%  | Val. Acc: 83.23%\n",
            "running_loss : 0.425466\trunning_corrects : 0.850000\t\tTrain Loss: 0.430 | Train Acc: 83.67%  | Val. Acc: 83.23%\n",
            "running_loss : 0.425413\trunning_corrects : 0.850000\t\tTrain Loss: 0.430 | Train Acc: 83.67%  | Val. Acc: 83.23%\n",
            "running_loss : 0.425749\trunning_corrects : 0.850000\t\tTrain Loss: 0.430 | Train Acc: 83.67%  | Val. Acc: 83.23%\n",
            "running_loss : 0.425600\trunning_corrects : 0.850000\t\tTrain Loss: 0.430 | Train Acc: 83.67%  | Val. Acc: 83.23%\n",
            "running_loss : 0.425525\trunning_corrects : 0.850000\t\tTrain Loss: 0.430 | Train Acc: 83.67%  | Val. Acc: 83.23%\n",
            "running_loss : 0.425524\trunning_corrects : 0.850000\t\tTrain Loss: 0.430 | Train Acc: 83.67%  | Val. Acc: 83.23%\n",
            "running_loss : 0.425569\trunning_corrects : 0.850000\t\tTrain Loss: 0.430 | Train Acc: 83.67%  | Val. Acc: 83.23%\n",
            "running_loss : 0.425386\trunning_corrects : 0.850000\t\tTrain Loss: 0.430 | Train Acc: 83.67%  | Val. Acc: 83.23%\n",
            "running_loss : 0.425518\trunning_corrects : 0.850000\t\tTrain Loss: 0.430 | Train Acc: 83.67%  | Val. Acc: 83.23%\n",
            "running_loss : 0.425345\trunning_corrects : 0.850000\t\tTrain Loss: 0.430 | Train Acc: 83.67%  | Val. Acc: 83.23%\n",
            "running_loss : 0.425416\trunning_corrects : 0.850000\t\tTrain Loss: 0.430 | Train Acc: 83.67%  | Val. Acc: 83.23%\n",
            "running_loss : 0.425402\trunning_corrects : 0.850000\t\tTrain Loss: 0.430 | Train Acc: 83.67%  | Val. Acc: 83.23%\n",
            "running_loss : 0.425612\trunning_corrects : 0.850000\t\tTrain Loss: 0.430 | Train Acc: 83.67%  | Val. Acc: 83.23%\n",
            "running_loss : 0.425660\trunning_corrects : 0.850000\t\tTrain Loss: 0.430 | Train Acc: 83.67%  | Val. Acc: 83.23%\n",
            "running_loss : 0.425496\trunning_corrects : 0.850000\t\tTrain Loss: 0.430 | Train Acc: 83.67%  | Val. Acc: 83.23%\n",
            "running_loss : 0.425609\trunning_corrects : 0.850000\t\tTrain Loss: 0.430 | Train Acc: 83.67%  | Val. Acc: 83.23%\n",
            "running_loss : 0.425547\trunning_corrects : 0.850000\t\tTrain Loss: 0.430 | Train Acc: 83.67%  | Val. Acc: 83.23%\n",
            "running_loss : 0.425481\trunning_corrects : 0.850000\t\tTrain Loss: 0.430 | Train Acc: 83.67%  | Val. Acc: 83.23%\n",
            "running_loss : 0.425564\trunning_corrects : 0.850000\t\tTrain Loss: 0.430 | Train Acc: 83.67%  | Val. Acc: 83.23%\n",
            "running_loss : 0.425617\trunning_corrects : 0.850000\t\tTrain Loss: 0.430 | Train Acc: 83.67%  | Val. Acc: 83.23%\n",
            "running_loss : 0.425464\trunning_corrects : 0.850000\t\tTrain Loss: 0.430 | Train Acc: 83.67%  | Val. Acc: 83.23%\n",
            "running_loss : 0.425915\trunning_corrects : 0.850000\t\tTrain Loss: 0.430 | Train Acc: 83.67%  | Val. Acc: 83.23%\n",
            "running_loss : 0.425747\trunning_corrects : 0.850000\t\tTrain Loss: 0.430 | Train Acc: 83.67%  | Val. Acc: 83.23%\n",
            "running_loss : 0.425713\trunning_corrects : 0.850000\t\tTrain Loss: 0.430 | Train Acc: 83.67%  | Val. Acc: 83.23%\n",
            "running_loss : 0.425565\trunning_corrects : 0.850000\t\tTrain Loss: 0.430 | Train Acc: 83.67%  | Val. Acc: 83.23%\n",
            "running_loss : 0.425708\trunning_corrects : 0.850000\t\tTrain Loss: 0.430 | Train Acc: 83.67%  | Val. Acc: 83.23%\n",
            "running_loss : 0.425467\trunning_corrects : 0.850000\t\tTrain Loss: 0.430 | Train Acc: 83.67%  | Val. Acc: 83.23%\n",
            "running_loss : 0.425670\trunning_corrects : 0.850000\t\tTrain Loss: 0.430 | Train Acc: 83.67%  | Val. Acc: 83.23%\n",
            "running_loss : 0.425694\trunning_corrects : 0.850000\t\tTrain Loss: 0.430 | Train Acc: 83.67%  | Val. Acc: 83.23%\n",
            "running_loss : 0.425619\trunning_corrects : 0.850000\t\tTrain Loss: 0.430 | Train Acc: 83.67%  | Val. Acc: 83.23%\n",
            "running_loss : 0.425446\trunning_corrects : 0.850000\t\tTrain Loss: 0.430 | Train Acc: 83.67%  | Val. Acc: 83.23%\n",
            "running_loss : 0.425631\trunning_corrects : 0.850000\t\tTrain Loss: 0.430 | Train Acc: 83.67%  | Val. Acc: 83.23%\n",
            "running_loss : 0.425633\trunning_corrects : 0.850000\t\tTrain Loss: 0.430 | Train Acc: 83.67%  | Val. Acc: 83.23%\n",
            "running_loss : 0.425810\trunning_corrects : 0.850000\t\tTrain Loss: 0.430 | Train Acc: 83.67%  | Val. Acc: 83.23%\n",
            "running_loss : 0.425795\trunning_corrects : 0.850000\t\tTrain Loss: 0.430 | Train Acc: 83.67%  | Val. Acc: 83.23%\n",
            "running_loss : 0.425735\trunning_corrects : 0.850000\t\tTrain Loss: 0.430 | Train Acc: 83.67%  | Val. Acc: 83.23%\n",
            "running_loss : 0.425792\trunning_corrects : 0.850000\t\tTrain Loss: 0.430 | Train Acc: 83.67%  | Val. Acc: 83.23%\n",
            "running_loss : 0.425762\trunning_corrects : 0.850000\t\tTrain Loss: 0.430 | Train Acc: 83.67%  | Val. Acc: 83.23%\n",
            "running_loss : 0.425665\trunning_corrects : 0.850000\t\tTrain Loss: 0.430 | Train Acc: 83.67%  | Val. Acc: 83.23%\n",
            "running_loss : 0.425778\trunning_corrects : 0.850000\t\tTrain Loss: 0.430 | Train Acc: 83.67%  | Val. Acc: 83.23%\n",
            "running_loss : 0.425812\trunning_corrects : 0.850000\t\tTrain Loss: 0.430 | Train Acc: 83.67%  | Val. Acc: 83.23%\n",
            "running_loss : 0.425730\trunning_corrects : 0.850000\t\tTrain Loss: 0.430 | Train Acc: 83.67%  | Val. Acc: 83.23%\n",
            "running_loss : 0.425817\trunning_corrects : 0.850000\t\tTrain Loss: 0.430 | Train Acc: 83.67%  | Val. Acc: 83.23%\n",
            "running_loss : 0.425676\trunning_corrects : 0.850000\t\tTrain Loss: 0.430 | Train Acc: 83.67%  | Val. Acc: 83.23%\n",
            "running_loss : 0.425712\trunning_corrects : 0.850000\t\tTrain Loss: 0.430 | Train Acc: 83.67%  | Val. Acc: 83.23%\n",
            "running_loss : 0.425914\trunning_corrects : 0.850000\t\tTrain Loss: 0.430 | Train Acc: 83.67%  | Val. Acc: 83.23%\n",
            "running_loss : 0.425932\trunning_corrects : 0.850000\t\tTrain Loss: 0.430 | Train Acc: 83.67%  | Val. Acc: 83.23%\n",
            "running_loss : 0.425762\trunning_corrects : 0.850000\t\tTrain Loss: 0.430 | Train Acc: 83.67%  | Val. Acc: 83.23%\n",
            "running_loss : 0.425939\trunning_corrects : 0.850000\t\tTrain Loss: 0.430 | Train Acc: 83.67%  | Val. Acc: 83.23%\n",
            "running_loss : 0.425872\trunning_corrects : 0.850000\t\tTrain Loss: 0.430 | Train Acc: 83.67%  | Val. Acc: 83.23%\n",
            "running_loss : 0.425979\trunning_corrects : 0.850000\t\tTrain Loss: 0.430 | Train Acc: 83.67%  | Val. Acc: 83.23%\n",
            "running_loss : 0.425725\trunning_corrects : 0.850000\t\tTrain Loss: 0.430 | Train Acc: 83.67%  | Val. Acc: 83.23%\n",
            "running_loss : 0.425985\trunning_corrects : 0.850000\t\tTrain Loss: 0.430 | Train Acc: 83.67%  | Val. Acc: 83.23%\n",
            "running_loss : 0.425955\trunning_corrects : 0.850000\t\tTrain Loss: 0.430 | Train Acc: 83.67%  | Val. Acc: 83.23%\n",
            "running_loss : 0.425891\trunning_corrects : 0.850000\t\tTrain Loss: 0.430 | Train Acc: 83.67%  | Val. Acc: 83.23%\n",
            "running_loss : 0.425775\trunning_corrects : 0.850000\t\tTrain Loss: 0.430 | Train Acc: 83.67%  | Val. Acc: 83.23%\n",
            "running_loss : 0.425957\trunning_corrects : 0.850000\t\tTrain Loss: 0.430 | Train Acc: 83.67%  | Val. Acc: 83.23%\n",
            "running_loss : 0.425966\trunning_corrects : 0.850000\t\tTrain Loss: 0.430 | Train Acc: 83.67%  | Val. Acc: 83.23%\n",
            "running_loss : 0.425462\trunning_corrects : 0.850000\t\tTrain Loss: 0.430 | Train Acc: 83.67%  | Val. Acc: 83.23%\n",
            "running_loss : 0.425681\trunning_corrects : 0.850000\t\tTrain Loss: 0.430 | Train Acc: 83.67%  | Val. Acc: 83.23%\n",
            "running_loss : 0.426176\trunning_corrects : 0.850000\t\tTrain Loss: 0.430 | Train Acc: 83.67%  | Val. Acc: 83.23%\n",
            "running_loss : 0.426138\trunning_corrects : 0.850000\t\tTrain Loss: 0.430 | Train Acc: 83.67%  | Val. Acc: 83.23%\n",
            "running_loss : 0.425531\trunning_corrects : 0.850000\t\tTrain Loss: 0.430 | Train Acc: 83.67%  | Val. Acc: 83.23%\n",
            "running_loss : 0.426078\trunning_corrects : 0.850000\t\tTrain Loss: 0.430 | Train Acc: 83.67%  | Val. Acc: 83.23%\n",
            "running_loss : 0.426092\trunning_corrects : 0.850000\t\tTrain Loss: 0.430 | Train Acc: 83.67%  | Val. Acc: 83.23%\n",
            "running_loss : 0.425919\trunning_corrects : 0.850000\t\tTrain Loss: 0.430 | Train Acc: 83.67%  | Val. Acc: 83.23%\n",
            "running_loss : 0.425582\trunning_corrects : 0.850000\t\tTrain Loss: 0.430 | Train Acc: 83.67%  | Val. Acc: 83.23%\n",
            "running_loss : 0.425595\trunning_corrects : 0.850000\t\tTrain Loss: 0.430 | Train Acc: 83.67%  | Val. Acc: 83.23%\n",
            "running_loss : 0.425538\trunning_corrects : 0.850000\t\tTrain Loss: 0.430 | Train Acc: 83.67%  | Val. Acc: 83.23%\n",
            "running_loss : 0.425629\trunning_corrects : 0.850000\t\tTrain Loss: 0.430 | Train Acc: 83.67%  | Val. Acc: 83.23%\n",
            "running_loss : 0.425981\trunning_corrects : 0.850000\t\tTrain Loss: 0.430 | Train Acc: 83.67%  | Val. Acc: 83.23%\n",
            "time:277.988\n"
          ]
        }
      ]
    },
    {
      "cell_type": "markdown",
      "metadata": {
        "id": "bo5j5q2H2IZZ"
      },
      "source": [
        "# Classification Performance Metrics"
      ]
    },
    {
      "cell_type": "code",
      "metadata": {
        "id": "QaNZD97cLleV"
      },
      "source": [
        "# import some importent library or packages \n",
        "import glob,sys,os\n",
        "import matplotlib.pyplot as plt\n",
        "import warnings\n",
        "import numpy as np\n",
        "import seaborn as sn\n",
        "import pandas as pd\n",
        "import pathlib\n",
        "import zipfile\n",
        "import torch\n",
        "import torch.nn as nn\n",
        "import torchvision\n",
        "import torchvision.transforms as transforms\n",
        "from torchvision import models\n",
        "from torch.utils.data import Dataset, DataLoader, ConcatDataset\n",
        "import torch.optim as optim\n",
        "import time,sys\n",
        "import copy\n",
        "from sklearn.metrics import confusion_matrix\n",
        "from sklearn.metrics import classification_report\n",
        "\n",
        "warnings.filterwarnings('ignore')"
      ],
      "execution_count": 30,
      "outputs": []
    },
    {
      "cell_type": "code",
      "metadata": {
        "id": "dQJ35QIc2L3Z"
      },
      "source": [
        "_tranning_loss = loss\n",
        "_tranning_acc = acc\n",
        "_validation_loss = val_loss\n",
        "_validation_acc = val_acc"
      ],
      "execution_count": 31,
      "outputs": []
    },
    {
      "cell_type": "code",
      "metadata": {
        "colab": {
          "base_uri": "https://localhost:8080/",
          "height": 350
        },
        "id": "4LZpToji3Jxy",
        "outputId": "b29fcc87-7a7c-4630-89e2-0f6852144b41"
      },
      "source": [
        "plt.figure(figsize=(10,5))\n",
        "plt.title(\"Loss graph\")\n",
        "plt.plot(_tranning_loss,label=\"Tranning Loss\")\n",
        "plt.plot(_validation_loss,label=\"Validation Loss\")\n",
        "plt.xlabel(\"iterations\")\n",
        "plt.ylabel(\"Loss\")\n",
        "plt.legend()\n",
        "plt.show()"
      ],
      "execution_count": 32,
      "outputs": [
        {
          "output_type": "display_data",
          "data": {
            "image/png": "[encoded data removed]",
            "text/plain": [
              "<Figure size 720x360 with 1 Axes>"
            ]
          },
          "metadata": {
            "needs_background": "light"
          }
        }
      ]
    },
    {
      "cell_type": "code",
      "metadata": {
        "colab": {
          "base_uri": "https://localhost:8080/",
          "height": 350
        },
        "id": "9I3Z4eo13K-T",
        "outputId": "1d7f9a0d-d05e-48a0-8147-629dd1b24931"
      },
      "source": [
        "plt.figure(figsize=(10,5))\n",
        "plt.title(\"Accuracy graph\")\n",
        "plt.plot(_tranning_acc,label=\"Tranning Accuracy\")\n",
        "plt.plot(_validation_acc,label=\"Validation Accuracy\")\n",
        "plt.xlabel(\"iterations\")\n",
        "plt.ylabel(\"Accuracy\")\n",
        "plt.legend()\n",
        "plt.show()"
      ],
      "execution_count": 33,
      "outputs": [
        {
          "output_type": "display_data",
          "data": {
            "image/png": "[encoded data removed]",
            "text/plain": [
              "<Figure size 720x360 with 1 Axes>"
            ]
          },
          "metadata": {
            "needs_background": "light"
          }
        }
      ]
    },
    {
      "cell_type": "code",
      "metadata": {
        "id": "1xjZ8_bBAeMH"
      },
      "source": [
        "y_true_tensor = torch.tensor([])\n",
        "y_pred_tensor = torch.tensor([])\n",
        "model.eval()\n",
        "with torch.no_grad():\n",
        "      for batch in valid_iter:\n",
        "          tweets, tweets_lengths = batch.tweets\n",
        "          predictions = model(tweets).squeeze(1)\n",
        "\n",
        "          rounded_preds = torch.round(torch.sigmoid(predictions))\n",
        "          correct = (rounded_preds == batch.sentiment).float() \n",
        "\n",
        "          # print(rounded_preds,batch.sentiment)\n",
        "\n",
        "          y_true_tensor = torch.cat((y_true_tensor,batch.sentiment))\n",
        "          y_pred_tensor = torch.cat((y_pred_tensor,rounded_preds))\n",
        "          # acc = binary_accuracy(predictions, batch.sentiment)\n",
        "          # print(acc)"
      ],
      "execution_count": 35,
      "outputs": []
    },
    {
      "cell_type": "code",
      "metadata": {
        "id": "ZgtBvybmnoi1"
      },
      "source": [
        "y_true = y_true_tensor.type(torch.LongTensor).tolist()\n",
        "y_pred = y_pred_tensor.type(torch.LongTensor).tolist()"
      ],
      "execution_count": 36,
      "outputs": []
    },
    {
      "cell_type": "code",
      "metadata": {
        "colab": {
          "base_uri": "https://localhost:8080/"
        },
        "id": "tlIt08Zenoeh",
        "outputId": "15de4226-c72b-4936-a946-ce681ccfea03"
      },
      "source": [
        "matrice = confusion_matrix(y_true,y_pred)\n",
        "matrice"
      ],
      "execution_count": 37,
      "outputs": [
        {
          "output_type": "execute_result",
          "data": {
            "text/plain": [
              "array([[1584,   14],\n",
              "       [ 333,  128]])"
            ]
          },
          "metadata": {},
          "execution_count": 37
        }
      ]
    },
    {
      "cell_type": "code",
      "metadata": {
        "colab": {
          "base_uri": "https://localhost:8080/",
          "height": 336
        },
        "id": "oGkQQtFsnobs",
        "outputId": "d4142f81-f59d-4bff-82a2-8404dd16b261"
      },
      "source": [
        "df_cm = pd.DataFrame(matrice,columns=[0,1],index=[0,1])\n",
        "plt.figure(figsize=(5,5))\n",
        "sn.heatmap(df_cm, annot=True,annot_kws={\"size\": 10},fmt='g',cmap='Blues',)\n",
        "plt.title(f\"Confusion matrix\")\n",
        "plt.show()"
      ],
      "execution_count": 38,
      "outputs": [
        {
          "output_type": "display_data",
          "data": {
            "image/png": "[encoded data removed]",
            "text/plain": [
              "<Figure size 360x360 with 2 Axes>"
            ]
          },
          "metadata": {
            "needs_background": "light"
          }
        }
      ]
    },
    {
      "cell_type": "code",
      "metadata": {
        "colab": {
          "base_uri": "https://localhost:8080/"
        },
        "id": "FMHEOvoLnoVG",
        "outputId": "fddad361-1d81-47bc-9554-76023db25ac3"
      },
      "source": [
        "classify_report = classification_report(y_true, y_pred, )\n",
        "print(classify_report)"
      ],
      "execution_count": 39,
      "outputs": [
        {
          "output_type": "stream",
          "name": "stdout",
          "text": [
            "              precision    recall  f1-score   support\n",
            "\n",
            "           0       0.83      0.99      0.90      1598\n",
            "           1       0.90      0.28      0.42       461\n",
            "\n",
            "    accuracy                           0.83      2059\n",
            "   macro avg       0.86      0.63      0.66      2059\n",
            "weighted avg       0.84      0.83      0.79      2059\n",
            "\n"
          ]
        }
      ]
    }
  ]
}